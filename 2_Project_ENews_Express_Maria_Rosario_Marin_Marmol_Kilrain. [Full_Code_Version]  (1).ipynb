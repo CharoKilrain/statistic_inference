{
 "cells": [
  {
   "cell_type": "markdown",
   "id": "6yDxo9u0d9Na",
   "metadata": {
    "id": "6yDxo9u0d9Na"
   },
   "source": [
    "# Project Business Statistics: E-news Express\n",
    "\n",
    "**Marks: 60**"
   ]
  },
  {
   "cell_type": "markdown",
   "id": "SrLd-ICEmPSD",
   "metadata": {
    "id": "SrLd-ICEmPSD"
   },
   "source": [
    "## Define Problem Statement and Objectives"
   ]
  },
  {
   "cell_type": "markdown",
   "id": "9Vt1PLLqmXNn",
   "metadata": {
    "id": "9Vt1PLLqmXNn"
   },
   "source": [
    "The online portal 'E-news Express' is looking to increase the number of subscribers. The company conducted a market experiment to test a new landing page designed by the design team to attract more subscribers. The market test is comparing the new features of new landing page to the old one, and their effects in number of subscribers increase.\n",
    "In order to measure the potential clients’ response, the experiment is selecting a sample of 100 individuals randomly and dividing them into two different groups: the control group and the treatment.\n",
    "The control group is using the old landing page, and the treatment group is being tested on the new landing page. We are given a dataset of 100 observations to analyze the outcome of the test for both landing pages.  The main pieces of information that we are given to complete the analysis are the time spent on each page, the language selected per user, the number of visitors of both landing pages that eventually subscribed to the news portal (they appear as converted), and the group of the experiment that each of them belong to, along with their user id.\n"
   ]
  },
  {
   "cell_type": "markdown",
   "id": "a6a3d218",
   "metadata": {
    "id": "a6a3d218"
   },
   "source": [
    "## Import all the necessary libraries"
   ]
  },
  {
   "cell_type": "code",
   "execution_count": 303,
   "id": "658c5dec",
   "metadata": {
    "id": "658c5dec"
   },
   "outputs": [],
   "source": [
    "import numpy as np\n",
    "import pandas as pd\n",
    "from matplotlib import pyplot as plt\n",
    "import seaborn as sns\n",
    "sns.set(color_codes=True)\n",
    "%matplotlib inline\n",
    "import scipy.stats as stats\n",
    "from scipy.stats import ttest_ind# for question 2\n",
    "from scipy.stats import norm\n",
    "from scipy.stats import t\n",
    "import statsmodels.stats.proportion\n",
    "from statsmodels.stats.proportion import proportions_ztest\n",
    "from scipy.stats import chi2_contingency\n",
    "from scipy.stats import chi2\n",
    "from scipy.stats import f_oneway\n"
   ]
  },
  {
   "cell_type": "code",
   "execution_count": 304,
   "id": "1f505577",
   "metadata": {},
   "outputs": [],
   "source": [
    "#to remove the warning messages\n",
    "import warnings\n",
    "warnings.filterwarnings('ignore')"
   ]
  },
  {
   "cell_type": "markdown",
   "id": "9d75cfa2",
   "metadata": {
    "id": "9d75cfa2"
   },
   "source": [
    "## 1. Explore the dataset and extract insights using Exploratory Data Analysis. (10 Marks)"
   ]
  },
  {
   "cell_type": "markdown",
   "id": "27201534",
   "metadata": {
    "id": "27201534"
   },
   "source": [
    "### Exploratory Data Analysis - Step by step approach\n",
    "\n",
    "Typical Data exploration activity consists of the following steps:\n",
    "1.\tImporting Data\n",
    "2.\tVariable Identification\n",
    "3.  Variable Transformation/Feature Creation\n",
    "4.  Missing value detection\n",
    "5.\tUnivariate Analysis\n",
    "6.\tBivariate Analysis"
   ]
  },
  {
   "cell_type": "markdown",
   "id": "6970dd99",
   "metadata": {
    "id": "6970dd99"
   },
   "source": [
    "### Reading the Data into a DataFrame"
   ]
  },
  {
   "cell_type": "code",
   "execution_count": 305,
   "id": "d3b95640",
   "metadata": {
    "id": "d3b95640"
   },
   "outputs": [],
   "source": [
    "# write the code for reading the dataset abtest.csv\n",
    "df1=pd.read_csv(r'C:\\Users\\charo\\Downloads\\abtest.csv')\n"
   ]
  },
  {
   "cell_type": "code",
   "execution_count": 306,
   "id": "1eddc501",
   "metadata": {},
   "outputs": [],
   "source": [
    "df=df1.copy()# make a copy of the dataset to avoid changing the data on the original dataframe."
   ]
  },
  {
   "cell_type": "markdown",
   "id": "a4e471fd",
   "metadata": {
    "id": "a4e471fd"
   },
   "source": [
    "### Data Overview\n",
    "- View a few rows of the data frame.\n",
    "- Check the shape and data types of the data frame. Add observations.\n",
    "- Fix the data-types (if needed).\n",
    "- Missing Value Check.\n",
    "- Summary statistics from the data frame. Add observations."
   ]
  },
  {
   "cell_type": "code",
   "execution_count": 307,
   "id": "e1ad11d4",
   "metadata": {
    "id": "e1ad11d4"
   },
   "outputs": [
    {
     "data": {
      "text/html": [
       "<div>\n",
       "<style scoped>\n",
       "    .dataframe tbody tr th:only-of-type {\n",
       "        vertical-align: middle;\n",
       "    }\n",
       "\n",
       "    .dataframe tbody tr th {\n",
       "        vertical-align: top;\n",
       "    }\n",
       "\n",
       "    .dataframe thead th {\n",
       "        text-align: right;\n",
       "    }\n",
       "</style>\n",
       "<table border=\"1\" class=\"dataframe\">\n",
       "  <thead>\n",
       "    <tr style=\"text-align: right;\">\n",
       "      <th></th>\n",
       "      <th>user_id</th>\n",
       "      <th>group</th>\n",
       "      <th>landing_page</th>\n",
       "      <th>time_spent_on_the_page</th>\n",
       "      <th>converted</th>\n",
       "      <th>language_preferred</th>\n",
       "    </tr>\n",
       "  </thead>\n",
       "  <tbody>\n",
       "    <tr>\n",
       "      <th>0</th>\n",
       "      <td>546592</td>\n",
       "      <td>control</td>\n",
       "      <td>old</td>\n",
       "      <td>3.48</td>\n",
       "      <td>no</td>\n",
       "      <td>Spanish</td>\n",
       "    </tr>\n",
       "    <tr>\n",
       "      <th>1</th>\n",
       "      <td>546468</td>\n",
       "      <td>treatment</td>\n",
       "      <td>new</td>\n",
       "      <td>7.13</td>\n",
       "      <td>yes</td>\n",
       "      <td>English</td>\n",
       "    </tr>\n",
       "    <tr>\n",
       "      <th>2</th>\n",
       "      <td>546462</td>\n",
       "      <td>treatment</td>\n",
       "      <td>new</td>\n",
       "      <td>4.40</td>\n",
       "      <td>no</td>\n",
       "      <td>Spanish</td>\n",
       "    </tr>\n",
       "    <tr>\n",
       "      <th>3</th>\n",
       "      <td>546567</td>\n",
       "      <td>control</td>\n",
       "      <td>old</td>\n",
       "      <td>3.02</td>\n",
       "      <td>no</td>\n",
       "      <td>French</td>\n",
       "    </tr>\n",
       "    <tr>\n",
       "      <th>4</th>\n",
       "      <td>546459</td>\n",
       "      <td>treatment</td>\n",
       "      <td>new</td>\n",
       "      <td>4.75</td>\n",
       "      <td>yes</td>\n",
       "      <td>Spanish</td>\n",
       "    </tr>\n",
       "  </tbody>\n",
       "</table>\n",
       "</div>"
      ],
      "text/plain": [
       "   user_id      group landing_page  time_spent_on_the_page converted  \\\n",
       "0   546592    control          old                    3.48        no   \n",
       "1   546468  treatment          new                    7.13       yes   \n",
       "2   546462  treatment          new                    4.40        no   \n",
       "3   546567    control          old                    3.02        no   \n",
       "4   546459  treatment          new                    4.75       yes   \n",
       "\n",
       "  language_preferred  \n",
       "0            Spanish  \n",
       "1            English  \n",
       "2            Spanish  \n",
       "3             French  \n",
       "4            Spanish  "
      ]
     },
     "execution_count": 307,
     "metadata": {},
     "output_type": "execute_result"
    }
   ],
   "source": [
    "df.head() # we chech the data has been loaded successfully\n"
   ]
  },
  {
   "cell_type": "markdown",
   "id": "322230fe",
   "metadata": {},
   "source": [
    "We have 6 variables included in the dataset:  variable 'user_id' that is the number assigned to each participant of the experiment; variable 'group' that divide the sample in two halves,  control group (old landing page users) and treatment group (new landing page users); variable 'landing_page' (new or old landing page visited by the individual); variable' time_spent_on_the_page', which it is the  time that each user is spending when visiting  her or his  assigned  the landing page;  variable 'converted' that provides information whether the user became a subscriber of’ 'E-news Express'’ after his/her visit, and  variable 'language_preferred' that gives us information about the language that visitors are selecting when using the landing page.\n"
   ]
  },
  {
   "cell_type": "code",
   "execution_count": 308,
   "id": "7e79e7b2",
   "metadata": {},
   "outputs": [
    {
     "data": {
      "text/plain": [
       "(100, 6)"
      ]
     },
     "execution_count": 308,
     "metadata": {},
     "output_type": "execute_result"
    }
   ],
   "source": [
    "df.shape # we have a dataset of 100 rows and 6 columns."
   ]
  },
  {
   "cell_type": "code",
   "execution_count": 309,
   "id": "fe184244",
   "metadata": {},
   "outputs": [
    {
     "name": "stdout",
     "output_type": "stream",
     "text": [
      "<class 'pandas.core.frame.DataFrame'>\n",
      "RangeIndex: 100 entries, 0 to 99\n",
      "Data columns (total 6 columns):\n",
      " #   Column                  Non-Null Count  Dtype  \n",
      "---  ------                  --------------  -----  \n",
      " 0   user_id                 100 non-null    int64  \n",
      " 1   group                   100 non-null    object \n",
      " 2   landing_page            100 non-null    object \n",
      " 3   time_spent_on_the_page  100 non-null    float64\n",
      " 4   converted               100 non-null    object \n",
      " 5   language_preferred      100 non-null    object \n",
      "dtypes: float64(1), int64(1), object(4)\n",
      "memory usage: 4.8+ KB\n"
     ]
    }
   ],
   "source": [
    "'''The function info() will provide with information regarding the columns of the dataset.\n",
    "Also, the function info() will show the type of variables we are working with and whether there is any missing values.'''\n",
    "df.info()"
   ]
  },
  {
   "cell_type": "markdown",
   "id": "99567337",
   "metadata": {},
   "source": [
    "From the above information we can conclude that there are not null or missing values in the chart. 'User_id' and ‘time_spent_on_the_page' both are numeric variables. With regards the rest of variables ‘group’, ‘landing_page’, converted and  ‘language_preferred’  we can see they are object. We need to convert the object type into categories because it will be easy to work with them and will not reduce the memory usage.\n",
    "\n"
   ]
  },
  {
   "cell_type": "code",
   "execution_count": 310,
   "id": "6b8428ed",
   "metadata": {},
   "outputs": [],
   "source": [
    "# We change the object variables into categories by using the function astype().\n",
    "df['group']=df['group'].astype('category')\n",
    "df['landing_page']=df['landing_page'].astype('category')\n",
    "df['converted']=df['converted'].astype('category')\n",
    "df['language_preferred']=df['language_preferred'].astype('category')"
   ]
  },
  {
   "cell_type": "code",
   "execution_count": 311,
   "id": "3e597318",
   "metadata": {},
   "outputs": [
    {
     "name": "stdout",
     "output_type": "stream",
     "text": [
      "<class 'pandas.core.frame.DataFrame'>\n",
      "RangeIndex: 100 entries, 0 to 99\n",
      "Data columns (total 6 columns):\n",
      " #   Column                  Non-Null Count  Dtype   \n",
      "---  ------                  --------------  -----   \n",
      " 0   user_id                 100 non-null    int64   \n",
      " 1   group                   100 non-null    category\n",
      " 2   landing_page            100 non-null    category\n",
      " 3   time_spent_on_the_page  100 non-null    float64 \n",
      " 4   converted               100 non-null    category\n",
      " 5   language_preferred      100 non-null    category\n",
      "dtypes: category(4), float64(1), int64(1)\n",
      "memory usage: 2.6 KB\n"
     ]
    }
   ],
   "source": [
    "# When we run the function info() we can see how the variable type has change. \n",
    "df.info()"
   ]
  },
  {
   "cell_type": "markdown",
   "id": "fdeb2792",
   "metadata": {},
   "source": [
    "We can see how when changing the object variables to categorical variables, memory the usage has decreased dramatically, from  4.8+ KB to 2.6 KB."
   ]
  },
  {
   "cell_type": "code",
   "execution_count": 312,
   "id": "880c80b0",
   "metadata": {},
   "outputs": [
    {
     "data": {
      "text/plain": [
       "user_id                   0\n",
       "group                     0\n",
       "landing_page              0\n",
       "time_spent_on_the_page    0\n",
       "converted                 0\n",
       "language_preferred        0\n",
       "dtype: int64"
      ]
     },
     "execution_count": 312,
     "metadata": {},
     "output_type": "execute_result"
    }
   ],
   "source": [
    "#isnull() function will look for null values on the dataframe.\n",
    "df.isnull().sum() \n"
   ]
  },
  {
   "cell_type": "markdown",
   "id": "8326e06d",
   "metadata": {},
   "source": [
    "As we expected we have not null values so we could use the dataset as it is, without using the dropna() function, because there are not missing values in any of the columns of the dataset.Still in order to follow the process and make sure we are not working with missing data we will apply the function."
   ]
  },
  {
   "cell_type": "code",
   "execution_count": 313,
   "id": "747d689b",
   "metadata": {},
   "outputs": [
    {
     "data": {
      "text/html": [
       "<div>\n",
       "<style scoped>\n",
       "    .dataframe tbody tr th:only-of-type {\n",
       "        vertical-align: middle;\n",
       "    }\n",
       "\n",
       "    .dataframe tbody tr th {\n",
       "        vertical-align: top;\n",
       "    }\n",
       "\n",
       "    .dataframe thead th {\n",
       "        text-align: right;\n",
       "    }\n",
       "</style>\n",
       "<table border=\"1\" class=\"dataframe\">\n",
       "  <thead>\n",
       "    <tr style=\"text-align: right;\">\n",
       "      <th></th>\n",
       "      <th>user_id</th>\n",
       "      <th>group</th>\n",
       "      <th>landing_page</th>\n",
       "      <th>time_spent_on_the_page</th>\n",
       "      <th>converted</th>\n",
       "      <th>language_preferred</th>\n",
       "    </tr>\n",
       "  </thead>\n",
       "  <tbody>\n",
       "    <tr>\n",
       "      <th>0</th>\n",
       "      <td>546592</td>\n",
       "      <td>control</td>\n",
       "      <td>old</td>\n",
       "      <td>3.48</td>\n",
       "      <td>no</td>\n",
       "      <td>Spanish</td>\n",
       "    </tr>\n",
       "    <tr>\n",
       "      <th>1</th>\n",
       "      <td>546468</td>\n",
       "      <td>treatment</td>\n",
       "      <td>new</td>\n",
       "      <td>7.13</td>\n",
       "      <td>yes</td>\n",
       "      <td>English</td>\n",
       "    </tr>\n",
       "    <tr>\n",
       "      <th>2</th>\n",
       "      <td>546462</td>\n",
       "      <td>treatment</td>\n",
       "      <td>new</td>\n",
       "      <td>4.40</td>\n",
       "      <td>no</td>\n",
       "      <td>Spanish</td>\n",
       "    </tr>\n",
       "    <tr>\n",
       "      <th>3</th>\n",
       "      <td>546567</td>\n",
       "      <td>control</td>\n",
       "      <td>old</td>\n",
       "      <td>3.02</td>\n",
       "      <td>no</td>\n",
       "      <td>French</td>\n",
       "    </tr>\n",
       "    <tr>\n",
       "      <th>4</th>\n",
       "      <td>546459</td>\n",
       "      <td>treatment</td>\n",
       "      <td>new</td>\n",
       "      <td>4.75</td>\n",
       "      <td>yes</td>\n",
       "      <td>Spanish</td>\n",
       "    </tr>\n",
       "    <tr>\n",
       "      <th>...</th>\n",
       "      <td>...</td>\n",
       "      <td>...</td>\n",
       "      <td>...</td>\n",
       "      <td>...</td>\n",
       "      <td>...</td>\n",
       "      <td>...</td>\n",
       "    </tr>\n",
       "    <tr>\n",
       "      <th>95</th>\n",
       "      <td>546446</td>\n",
       "      <td>treatment</td>\n",
       "      <td>new</td>\n",
       "      <td>5.15</td>\n",
       "      <td>no</td>\n",
       "      <td>Spanish</td>\n",
       "    </tr>\n",
       "    <tr>\n",
       "      <th>96</th>\n",
       "      <td>546544</td>\n",
       "      <td>control</td>\n",
       "      <td>old</td>\n",
       "      <td>6.52</td>\n",
       "      <td>yes</td>\n",
       "      <td>English</td>\n",
       "    </tr>\n",
       "    <tr>\n",
       "      <th>97</th>\n",
       "      <td>546472</td>\n",
       "      <td>treatment</td>\n",
       "      <td>new</td>\n",
       "      <td>7.07</td>\n",
       "      <td>yes</td>\n",
       "      <td>Spanish</td>\n",
       "    </tr>\n",
       "    <tr>\n",
       "      <th>98</th>\n",
       "      <td>546481</td>\n",
       "      <td>treatment</td>\n",
       "      <td>new</td>\n",
       "      <td>6.20</td>\n",
       "      <td>yes</td>\n",
       "      <td>Spanish</td>\n",
       "    </tr>\n",
       "    <tr>\n",
       "      <th>99</th>\n",
       "      <td>546483</td>\n",
       "      <td>treatment</td>\n",
       "      <td>new</td>\n",
       "      <td>5.86</td>\n",
       "      <td>yes</td>\n",
       "      <td>English</td>\n",
       "    </tr>\n",
       "  </tbody>\n",
       "</table>\n",
       "<p>100 rows × 6 columns</p>\n",
       "</div>"
      ],
      "text/plain": [
       "    user_id      group landing_page  time_spent_on_the_page converted  \\\n",
       "0    546592    control          old                    3.48        no   \n",
       "1    546468  treatment          new                    7.13       yes   \n",
       "2    546462  treatment          new                    4.40        no   \n",
       "3    546567    control          old                    3.02        no   \n",
       "4    546459  treatment          new                    4.75       yes   \n",
       "..      ...        ...          ...                     ...       ...   \n",
       "95   546446  treatment          new                    5.15        no   \n",
       "96   546544    control          old                    6.52       yes   \n",
       "97   546472  treatment          new                    7.07       yes   \n",
       "98   546481  treatment          new                    6.20       yes   \n",
       "99   546483  treatment          new                    5.86       yes   \n",
       "\n",
       "   language_preferred  \n",
       "0             Spanish  \n",
       "1             English  \n",
       "2             Spanish  \n",
       "3              French  \n",
       "4             Spanish  \n",
       "..                ...  \n",
       "95            Spanish  \n",
       "96            English  \n",
       "97            Spanish  \n",
       "98            Spanish  \n",
       "99            English  \n",
       "\n",
       "[100 rows x 6 columns]"
      ]
     },
     "execution_count": 313,
     "metadata": {},
     "output_type": "execute_result"
    }
   ],
   "source": [
    "'''We are using dropna() to make sure any null value is not included in the table but as we can see the number\n",
    "is not changed after applying the function; as we could see previously there are not  null values.'''\n",
    "df.dropna()"
   ]
  },
  {
   "cell_type": "code",
   "execution_count": 314,
   "id": "80b37d73",
   "metadata": {},
   "outputs": [
    {
     "data": {
      "text/html": [
       "<div>\n",
       "<style scoped>\n",
       "    .dataframe tbody tr th:only-of-type {\n",
       "        vertical-align: middle;\n",
       "    }\n",
       "\n",
       "    .dataframe tbody tr th {\n",
       "        vertical-align: top;\n",
       "    }\n",
       "\n",
       "    .dataframe thead th {\n",
       "        text-align: right;\n",
       "    }\n",
       "</style>\n",
       "<table border=\"1\" class=\"dataframe\">\n",
       "  <thead>\n",
       "    <tr style=\"text-align: right;\">\n",
       "      <th></th>\n",
       "      <th>user_id</th>\n",
       "      <th>time_spent_on_the_page</th>\n",
       "    </tr>\n",
       "  </thead>\n",
       "  <tbody>\n",
       "    <tr>\n",
       "      <th>count</th>\n",
       "      <td>100.000000</td>\n",
       "      <td>100.000000</td>\n",
       "    </tr>\n",
       "    <tr>\n",
       "      <th>mean</th>\n",
       "      <td>546517.000000</td>\n",
       "      <td>5.377800</td>\n",
       "    </tr>\n",
       "    <tr>\n",
       "      <th>std</th>\n",
       "      <td>52.295779</td>\n",
       "      <td>2.378166</td>\n",
       "    </tr>\n",
       "    <tr>\n",
       "      <th>min</th>\n",
       "      <td>546443.000000</td>\n",
       "      <td>0.190000</td>\n",
       "    </tr>\n",
       "    <tr>\n",
       "      <th>25%</th>\n",
       "      <td>546467.750000</td>\n",
       "      <td>3.880000</td>\n",
       "    </tr>\n",
       "    <tr>\n",
       "      <th>50%</th>\n",
       "      <td>546492.500000</td>\n",
       "      <td>5.415000</td>\n",
       "    </tr>\n",
       "    <tr>\n",
       "      <th>75%</th>\n",
       "      <td>546567.250000</td>\n",
       "      <td>7.022500</td>\n",
       "    </tr>\n",
       "    <tr>\n",
       "      <th>max</th>\n",
       "      <td>546592.000000</td>\n",
       "      <td>10.710000</td>\n",
       "    </tr>\n",
       "  </tbody>\n",
       "</table>\n",
       "</div>"
      ],
      "text/plain": [
       "             user_id  time_spent_on_the_page\n",
       "count     100.000000              100.000000\n",
       "mean   546517.000000                5.377800\n",
       "std        52.295779                2.378166\n",
       "min    546443.000000                0.190000\n",
       "25%    546467.750000                3.880000\n",
       "50%    546492.500000                5.415000\n",
       "75%    546567.250000                7.022500\n",
       "max    546592.000000               10.710000"
      ]
     },
     "execution_count": 314,
     "metadata": {},
     "output_type": "execute_result"
    }
   ],
   "source": [
    "#By using the function describe we can see the main values to have approach to a complete exploratory data analysis.\n",
    "#summary of the dataset.\n",
    "df.describe()"
   ]
  },
  {
   "cell_type": "markdown",
   "id": "4629f796",
   "metadata": {},
   "source": [
    "### Summary numerical variables"
   ]
  },
  {
   "cell_type": "markdown",
   "id": "2237cc5e",
   "metadata": {},
   "source": [
    " user_id\n",
    " \n",
    "The above summary is showing the information for the numerical variables included in the data frame. The user_id is not offering any relevant information except for the overall count that is as expected 100, the size of the sample. The user_id numbers are assigned randomly, and they are not following any order. We will analyse this variable later on. \n",
    "\n",
    "time_spent_on_the_page\n",
    "\n",
    "The average time spent on both landing pages is 5.37 minutes. There is not much information about the period the experiment took place. The standard deviation is 2.3 which in proportion with the mean seems to be a high value so we can assume the time spent on the landing page observations are disperse in relation to the mean. The median is slightly greater than the mean, so the distribution is a bit left skewed. The median value, the one that has the 50% of the time below and above is 5.415 minutes. The maximum time a user spent on the landing page was 10.7 minutes and the minimum time an individual spent on the landing page was 0.19 minutes (around 11 seconds). Overall, the mean and the median values are very similar so the distribution will be similar to a bell shape distribution.\n"
   ]
  },
  {
   "cell_type": "code",
   "execution_count": 315,
   "id": "d43f1a9f",
   "metadata": {},
   "outputs": [
    {
     "data": {
      "text/plain": [
       "[]"
      ]
     },
     "execution_count": 315,
     "metadata": {},
     "output_type": "execute_result"
    },
    {
     "data": {
      "text/plain": [
       "<Figure size 7200x7200 with 0 Axes>"
      ]
     },
     "metadata": {},
     "output_type": "display_data"
    },
    {
     "data": {
      "image/png": "[encoded data removed]",
      "text/plain": [
       "<Figure size 360x360 with 1 Axes>"
      ]
     },
     "metadata": {
      "needs_background": "light"
     },
     "output_type": "display_data"
    }
   ],
   "source": [
    "\n",
    "plt.figure(figsize=(100,100))\n",
    "sns.displot (x=df['time_spent_on_the_page'], kind='kde')\n",
    "plt.title('Average time spent on any of the landing pages', loc='center')\n",
    "plt.plot()"
   ]
  },
  {
   "cell_type": "code",
   "execution_count": 316,
   "id": "7c50a36d",
   "metadata": {},
   "outputs": [
    {
     "data": {
      "text/html": [
       "<div>\n",
       "<style scoped>\n",
       "    .dataframe tbody tr th:only-of-type {\n",
       "        vertical-align: middle;\n",
       "    }\n",
       "\n",
       "    .dataframe tbody tr th {\n",
       "        vertical-align: top;\n",
       "    }\n",
       "\n",
       "    .dataframe thead th {\n",
       "        text-align: right;\n",
       "    }\n",
       "</style>\n",
       "<table border=\"1\" class=\"dataframe\">\n",
       "  <thead>\n",
       "    <tr style=\"text-align: right;\">\n",
       "      <th></th>\n",
       "      <th>group</th>\n",
       "      <th>landing_page</th>\n",
       "      <th>converted</th>\n",
       "      <th>language_preferred</th>\n",
       "    </tr>\n",
       "  </thead>\n",
       "  <tbody>\n",
       "    <tr>\n",
       "      <th>count</th>\n",
       "      <td>100</td>\n",
       "      <td>100</td>\n",
       "      <td>100</td>\n",
       "      <td>100</td>\n",
       "    </tr>\n",
       "    <tr>\n",
       "      <th>unique</th>\n",
       "      <td>2</td>\n",
       "      <td>2</td>\n",
       "      <td>2</td>\n",
       "      <td>3</td>\n",
       "    </tr>\n",
       "    <tr>\n",
       "      <th>top</th>\n",
       "      <td>control</td>\n",
       "      <td>new</td>\n",
       "      <td>yes</td>\n",
       "      <td>French</td>\n",
       "    </tr>\n",
       "    <tr>\n",
       "      <th>freq</th>\n",
       "      <td>50</td>\n",
       "      <td>50</td>\n",
       "      <td>54</td>\n",
       "      <td>34</td>\n",
       "    </tr>\n",
       "  </tbody>\n",
       "</table>\n",
       "</div>"
      ],
      "text/plain": [
       "          group landing_page converted language_preferred\n",
       "count       100          100       100                100\n",
       "unique        2            2         2                  3\n",
       "top     control          new       yes             French\n",
       "freq         50           50        54                 34"
      ]
     },
     "execution_count": 316,
     "metadata": {},
     "output_type": "execute_result"
    }
   ],
   "source": [
    "#By applying decribe function to only the categorical variable we can obtain very interested information.\n",
    "df.describe(include='category')"
   ]
  },
  {
   "cell_type": "markdown",
   "id": "1aa7fac2",
   "metadata": {},
   "source": [
    "### Additional information for categorical variables"
   ]
  },
  {
   "cell_type": "code",
   "execution_count": 317,
   "id": "a8504a85",
   "metadata": {},
   "outputs": [
    {
     "data": {
      "text/plain": [
       "['Spanish', 'English', 'French']\n",
       "Categories (3, object): ['Spanish', 'English', 'French']"
      ]
     },
     "execution_count": 317,
     "metadata": {},
     "output_type": "execute_result"
    }
   ],
   "source": [
    "df['language_preferred'].unique()#number and name of  each language"
   ]
  },
  {
   "cell_type": "code",
   "execution_count": 318,
   "id": "6f924b4e",
   "metadata": {},
   "outputs": [
    {
     "data": {
      "text/plain": [
       "French     34\n",
       "Spanish    34\n",
       "English    32\n",
       "Name: language_preferred, dtype: int64"
      ]
     },
     "execution_count": 318,
     "metadata": {},
     "output_type": "execute_result"
    }
   ],
   "source": [
    "df['language_preferred'].value_counts()#number of languages selected along with their counts."
   ]
  },
  {
   "cell_type": "code",
   "execution_count": 319,
   "id": "aa23329a",
   "metadata": {},
   "outputs": [
    {
     "data": {
      "text/plain": [
       "control      50\n",
       "treatment     0\n",
       "Name: group, dtype: int64"
      ]
     },
     "execution_count": 319,
     "metadata": {},
     "output_type": "execute_result"
    }
   ],
   "source": [
    "df[df['group']=='control']['group'].value_counts()#number of individuals in the control group\n"
   ]
  },
  {
   "cell_type": "code",
   "execution_count": 320,
   "id": "b045ae4e",
   "metadata": {},
   "outputs": [
    {
     "data": {
      "text/plain": [
       "treatment    50\n",
       "control       0\n",
       "Name: group, dtype: int64"
      ]
     },
     "execution_count": 320,
     "metadata": {},
     "output_type": "execute_result"
    }
   ],
   "source": [
    "df[df['group']=='treatment']['group'].value_counts()#number of individuals in the treatment group"
   ]
  },
  {
   "cell_type": "markdown",
   "id": "5d675dfc",
   "metadata": {},
   "source": [
    "### Summary categorical variables"
   ]
  },
  {
   "cell_type": "markdown",
   "id": "5866fef8",
   "metadata": {},
   "source": [
    "\n",
    "Variable Group:\n",
    " \n",
    "There are two different kinds of groups, control and treatment. The first one is the one that will be using the old landing page, whereas the treatment group will be using the new one. As per the information shown in the chart, the most frequent type of user is  the control group, what is unacuarte, because when we check the frequency it is 50 per cent, therefore the are both groups equal in number of individuals.\n",
    "\n",
    "Landing_page:\n",
    "\n",
    "we are testing two different landing pages, the new one and the old one. They are both equal included in equal proportions since the frequency is 50 per cent.\n",
    "\n",
    "Language_preferred:\n",
    "\n",
    "As we can see, there are 3 different languages. The information shows that the most preferred language was French (according to the initial summary) but when we found additional information, it turned out that French and Spanish were preferred both with the same frequency of 34% and English will be in second position with only 32% of the time selected. \n",
    "\n",
    "Converted:\n",
    "\n",
    "This variable is indicating the conversion rate, the number of people that become subscribers after visiting the landing page. Since 'yes' is the top value, with a frequency of 54% we can assume that more than the half of the people that visited  any of the landing pages were interested in becoming a member or subscriber.\n",
    "\n"
   ]
  },
  {
   "cell_type": "markdown",
   "id": "68f3b2c9",
   "metadata": {
    "id": "68f3b2c9"
   },
   "source": [
    "### Univariate Analysis"
   ]
  },
  {
   "cell_type": "code",
   "execution_count": 321,
   "id": "e6f99481",
   "metadata": {
    "id": "e6f99481"
   },
   "outputs": [],
   "source": [
    "# function to plot a boxplot and a histogram along the same scale.\n",
    "\n",
    "\n",
    "def histogram_boxplot(data, feature, figsize=(12, 7), kde=False, bins=None):\n",
    "    \"\"\"\n",
    "    Boxplot and histogram combined\n",
    "\n",
    "    data: dataframe\n",
    "    feature: dataframe column\n",
    "    figsize: size of figure (default (12,7))\n",
    "    kde: whether to show the density curve (default False)\n",
    "    bins: number of bins for histogram (default None)\n",
    "    \"\"\"\n",
    "    f2, (ax_box2, ax_hist2) = plt.subplots(\n",
    "        nrows=2,  # Number of rows of the subplot grid= 2\n",
    "        sharex=True,  # x-axis will be shared among all subplots\n",
    "        gridspec_kw={\"height_ratios\": (0.25, 0.75)},\n",
    "        figsize=figsize,\n",
    "    )  # creating the 2 subplots\n",
    "    sns.boxplot(\n",
    "        data=data, x=feature, ax=ax_box2, showmeans=True, color=\"violet\"\n",
    "    )  # boxplot will be created and a star will indicate the mean value of the column\n",
    "    sns.histplot(\n",
    "        data=data, x=feature, kde=kde, ax=ax_hist2, bins=bins, palette=\"winter\"\n",
    "    ) if bins else sns.histplot(\n",
    "        data=data, x=feature, kde=kde, ax=ax_hist2\n",
    "    )  # For histogram\n",
    "    ax_hist2.axvline(\n",
    "        data[feature].mean(), color=\"red\", linestyle=\"--\"\n",
    "    )  # Add mean to the histogram\n",
    "    ax_hist2.axvline(\n",
    "        data[feature].median(), color=\"yellow\", linestyle=\"-\"\n",
    "    )  # Add median to the histogram\n"
   ]
  },
  {
   "cell_type": "code",
   "execution_count": 322,
   "id": "d785d174",
   "metadata": {},
   "outputs": [],
   "source": [
    "# function to create labeled barplots\n",
    "\n",
    "\n",
    "def labeled_barplot(data, feature, perc=False, n=None):\n",
    "    \"\"\"\n",
    "    Barplot with percentage at the top\n",
    "\n",
    "    data: dataframe\n",
    "    feature: dataframe column\n",
    "    perc: whether to display percentages instead of count (default is False)\n",
    "    n: displays the top n category levels (default is None, i.e., display all levels)\n",
    "    \"\"\"\n",
    "\n",
    "    total = len(data[feature])  # length of the column\n",
    "    count = data[feature].nunique()\n",
    "    if n is None:\n",
    "        plt.figure(figsize=(count + 1, 5))\n",
    "    else:\n",
    "        plt.figure(figsize=(n + 1, 5))\n",
    "\n",
    "    plt.xticks(rotation=45, fontsize=15)\n",
    "    ax = sns.countplot(data=data, x=feature, palette=\"Paired\", order=data[feature].value_counts().index[:n].sort_values())\n",
    "\n",
    "    for p in ax.patches:\n",
    "        if perc == True:\n",
    "            label = \"{:.1f}%\".format(100 * p.get_height() / total)  # percentage of each class of the category\n",
    "        else:\n",
    "            label = p.get_height()  # count of each level of the category\n",
    "\n",
    "        x = p.get_x() + p.get_width() / 2  # width of the plot\n",
    "        y = p.get_height()      # height of the plot\n",
    "\n",
    "        ax.annotate(label, (x, y), ha=\"center\", va=\"center\", size=12, xytext=(0, 5), textcoords=\"offset points\")  # annotate the percentage\n",
    "\n",
    "    plt.show()  # show the plot"
   ]
  },
  {
   "cell_type": "markdown",
   "id": "e11d8f2d",
   "metadata": {},
   "source": [
    "### Time spent on landing page"
   ]
  },
  {
   "cell_type": "code",
   "execution_count": 323,
   "id": "0ab66fbe",
   "metadata": {},
   "outputs": [
    {
     "data": {
      "text/plain": [
       "Text(0.0, 1.0, 'Time spent on the landing page')"
      ]
     },
     "execution_count": 323,
     "metadata": {},
     "output_type": "execute_result"
    },
    {
     "data": {
      "image/png": "[encoded data removed]",
      "text/plain": [
       "<Figure size 864x504 with 2 Axes>"
      ]
     },
     "metadata": {
      "needs_background": "light"
     },
     "output_type": "display_data"
    }
   ],
   "source": [
    "histogram_boxplot(df,'time_spent_on_the_page', figsize=(12, 7), kde=False, bins=None)\n",
    "plt.title('Time spent on the landing page', loc='left')\n",
    "#We are plotting numerica variable 'time_spent_on_landing_page' by using an histagram and a boxplot to find further details."
   ]
  },
  {
   "cell_type": "code",
   "execution_count": 434,
   "id": "5cd23ca6",
   "metadata": {},
   "outputs": [
    {
     "name": "stdout",
     "output_type": "stream",
     "text": [
      "The mean value 5.3778 and the median value 5.415 are very similar. The standard deviation is 2.3782.\n"
     ]
    }
   ],
   "source": [
    "\n",
    "\"\"\"In order to compare both mean and median we calculated separately so we can see the specific values\"\"\"\n",
    "Mean_t=df['time_spent_on_the_page'].mean()\n",
    "Mean_time=np.round(Mean_t,4)\n",
    "\n",
    "Median_t=df['time_spent_on_the_page'].median()\n",
    "Median_time=np.round(Median_t,4)\n",
    "\n",
    "std_t=df['time_spent_on_the_page'].std()\n",
    "std_time=df['time_spent_on_the_page'].std()\n",
    "\n",
    "print(F'The mean value {Mean_time} and the median value {Median_time} are very similar. The standard deviation is {np.round(std_time,4)}.')\n",
    "\n",
    "\n"
   ]
  },
  {
   "cell_type": "markdown",
   "id": "54e9386d",
   "metadata": {},
   "source": [
    "After some analysis of the variable 'time_spend_on_landing_page' we can conclude that the average user will spend about a bit more than 5 minutes (5.37) on the Enews Express landing page. There not outliers and the plot is very symmetrical, it seems that the values are positioned around the mean and there is a very slight left skewness. Overall, we could say that the plot shape is very similar to a bell shape."
   ]
  },
  {
   "cell_type": "markdown",
   "id": "c59898f7",
   "metadata": {},
   "source": [
    "### User ID"
   ]
  },
  {
   "cell_type": "code",
   "execution_count": 325,
   "id": "ec01e226",
   "metadata": {},
   "outputs": [
    {
     "data": {
      "text/plain": [
       "Text(0.0, 1.0, 'User id')"
      ]
     },
     "execution_count": 325,
     "metadata": {},
     "output_type": "execute_result"
    },
    {
     "data": {
      "image/png": "[encoded data removed]",
      "text/plain": [
       "<Figure size 864x504 with 2 Axes>"
      ]
     },
     "metadata": {
      "needs_background": "light"
     },
     "output_type": "display_data"
    }
   ],
   "source": [
    "'''We are plotting the variable user Id to identify any new details. It is considered numerical so we are using \n",
    "histogram and boxplot.'''  \n",
    "histogram_boxplot(df,'user_id', figsize=(12, 7), kde=False, bins=None)\n",
    "plt.title('User id', loc='left')\n"
   ]
  },
  {
   "cell_type": "code",
   "execution_count": 326,
   "id": "89c5204a",
   "metadata": {},
   "outputs": [
    {
     "name": "stdout",
     "output_type": "stream",
     "text": [
      "The total number of users that are taking part on the test experiment are 100.\n"
     ]
    }
   ],
   "source": [
    "number_of_sample_test=df['user_id'].value_counts().sum()\n",
    "print(f'The total number of users that are taking part on the test experiment are {number_of_sample_test}.')"
   ]
  },
  {
   "cell_type": "markdown",
   "id": "0e89dda3",
   "metadata": {},
   "source": [
    "As expected, the number of users that have been divided in two groups to test the landing page are 100. In the histogram, \n",
    "we can see that the values are divided in two big similar blocks, that could have been related to the mentioned two groups: control group and the treatment group, so the system may be assigning different numbers depending on the groups. The mean and the median values do not provide with any relevant information for the analysis, since the id number is randomly assigned to each individual."
   ]
  },
  {
   "cell_type": "markdown",
   "id": "bb447f56",
   "metadata": {},
   "source": [
    "### Group"
   ]
  },
  {
   "cell_type": "code",
   "execution_count": 327,
   "id": "af703b13",
   "metadata": {},
   "outputs": [
    {
     "data": {
      "image/png": "[encoded data removed]",
      "text/plain": [
       "<Figure size 648x360 with 1 Axes>"
      ]
     },
     "metadata": {
      "needs_background": "light"
     },
     "output_type": "display_data"
    }
   ],
   "source": [
    "'''As the group variable is as categorical variable, we are plotting the data by using a barplot'''\n",
    "labeled_barplot(df,'group', perc=False, n=8)\n",
    "\n",
    "\n"
   ]
  },
  {
   "cell_type": "markdown",
   "id": "5c6dbba9",
   "metadata": {},
   "source": [
    "\n",
    "The groups of study for Enews Express are the control group and the treatment group. As mentioned at the beginning of this \n",
    "report, the number of users tested is 100 and they have been divided in equal proportions to both groups, therefore each group holds 50 individuals.\n"
   ]
  },
  {
   "cell_type": "markdown",
   "id": "5ebe2312",
   "metadata": {},
   "source": [
    "### Landing page "
   ]
  },
  {
   "cell_type": "code",
   "execution_count": 328,
   "id": "f4d4f3e9",
   "metadata": {},
   "outputs": [
    {
     "data": {
      "image/png": "[encoded data removed]",
      "text/plain": [
       "<Figure size 648x360 with 1 Axes>"
      ]
     },
     "metadata": {
      "needs_background": "light"
     },
     "output_type": "display_data"
    }
   ],
   "source": [
    "labeled_barplot(df,'landing_page', perc=False, n=8)# We use barplot to visualize the categorical variable landing page."
   ]
  },
  {
   "cell_type": "markdown",
   "id": "973d63da",
   "metadata": {},
   "source": [
    "There are two different landing pages, the old one and the new one. Both landing pages have been tested during the test \n",
    "experiment, so 50 individual are testing the old landing page and other 50, are testing the new landing page."
   ]
  },
  {
   "cell_type": "markdown",
   "id": "5ce420e5",
   "metadata": {},
   "source": [
    "### Converted users- New subscribers"
   ]
  },
  {
   "cell_type": "code",
   "execution_count": 329,
   "id": "8cdcc912",
   "metadata": {},
   "outputs": [
    {
     "data": {
      "image/png": "[encoded data removed]",
      "text/plain": [
       "<Figure size 648x360 with 1 Axes>"
      ]
     },
     "metadata": {
      "needs_background": "light"
     },
     "output_type": "display_data"
    }
   ],
   "source": [
    "labeled_barplot(df,'converted', perc=False, n=8)# We use barplot to visualize the categorical variable converted."
   ]
  },
  {
   "cell_type": "markdown",
   "id": "a7099576",
   "metadata": {},
   "source": [
    "The number of users that after visiting any of the landing pages decided to become a subscriber is 54, while 46 users decided that they will not subscribe to ENews Express. So, 54% of the overall users were attracted by one of the landing pages. As per the case statement, each of these individuals only had the opportunity to use one of the landing pages. Further research will be needed to find out which of the landing pages was more attractive for the users."
   ]
  },
  {
   "cell_type": "markdown",
   "id": "254a14ed",
   "metadata": {},
   "source": [
    "### language_preferred"
   ]
  },
  {
   "cell_type": "code",
   "execution_count": 330,
   "id": "f34181fe",
   "metadata": {},
   "outputs": [
    {
     "data": {
      "image/png": "[encoded data removed]",
      "text/plain": [
       "<Figure size 648x360 with 1 Axes>"
      ]
     },
     "metadata": {
      "needs_background": "light"
     },
     "output_type": "display_data"
    }
   ],
   "source": [
    "labeled_barplot(df,'language_preferred', perc=False, n=8)\n",
    "# we use barplot to visualize the variable preferred_language, which is categorical."
   ]
  },
  {
   "cell_type": "markdown",
   "id": "d404075f",
   "metadata": {},
   "source": [
    "The above graphic representation just confirms what we suspected on our initial approach, when reviewing the summary information of the variables. There are two languages, French and Spanish, that are preferred with a 34% each of them. English is the less preferred language for the users of the landing page."
   ]
  },
  {
   "cell_type": "markdown",
   "id": "e54d828b",
   "metadata": {},
   "source": [
    "### Bivariate Analysis"
   ]
  },
  {
   "cell_type": "markdown",
   "id": "a18e570c",
   "metadata": {},
   "source": [
    "### Numerical variables pairplot"
   ]
  },
  {
   "cell_type": "code",
   "execution_count": 331,
   "id": "49586582",
   "metadata": {},
   "outputs": [
    {
     "data": {
      "text/plain": [
       "<Figure size 1080x720 with 0 Axes>"
      ]
     },
     "metadata": {},
     "output_type": "display_data"
    },
    {
     "data": {
      "image/png": "[encoded data removed]",
      "text/plain": [
       "<Figure size 440.425x360 with 6 Axes>"
      ]
     },
     "metadata": {
      "needs_background": "light"
     },
     "output_type": "display_data"
    }
   ],
   "source": [
    "'''The pairplot will help us see any relation or pattern between variables. In this case, we are using the landing \n",
    "page as a hue to observe patterns in relation with the different landing pages.''' \n",
    "\n",
    "plt.figure(figsize=(15,10))\n",
    "sns.pairplot(data=df, hue='landing_page', kind='hist')\n",
    "plt.text(x=-13,y=45,s='Comparing user_id and time spent on landing page', fontsize=14)\n",
    "plt.show()\n"
   ]
  },
  {
   "cell_type": "markdown",
   "id": "9f60b5e7",
   "metadata": {},
   "source": [
    "As we initially suspected, the old landing page users and the new landing page users have been assigned different ranges of numbers of identification, with the exception of one person of the lower numbers range that was assigned to the old page. We cannot see any relationship between the number assigned and the time spent on the landing page."
   ]
  },
  {
   "cell_type": "code",
   "execution_count": 332,
   "id": "3e8dde7d",
   "metadata": {},
   "outputs": [
    {
     "data": {
      "text/plain": [
       "Text(0.5, 1.0, 'Heatmap for numeric variables: time spent on website and user id')"
      ]
     },
     "execution_count": 332,
     "metadata": {},
     "output_type": "execute_result"
    },
    {
     "data": {
      "image/png": "[encoded data removed]",
      "text/plain": [
       "<Figure size 576x360 with 2 Axes>"
      ]
     },
     "metadata": {
      "needs_background": "light"
     },
     "output_type": "display_data"
    }
   ],
   "source": [
    "plt.figure(figsize=(8,5))\n",
    "sns.heatmap( df.corr(), annot=True)# we use the heatmap for the numrical variables to find out any assotiation.\n",
    "plt.title('Heatmap for numeric variables: time spent on website and user id', fontsize=12)"
   ]
  },
  {
   "cell_type": "markdown",
   "id": "39f9dd34",
   "metadata": {},
   "source": [
    "When using the heatmap to find any correlation between the above variables, time_spent_on_landing_page and user_id, we do not find any significant relation. the correlation is closer to 0 than 1, so they are independent variables."
   ]
  },
  {
   "cell_type": "markdown",
   "id": "d7010119",
   "metadata": {},
   "source": [
    "### Time spend on each landing page"
   ]
  },
  {
   "cell_type": "code",
   "execution_count": 333,
   "id": "e86cd296",
   "metadata": {},
   "outputs": [
    {
     "data": {
      "image/png": "[encoded data removed]",
      "text/plain": [
       "<Figure size 432x288 with 1 Axes>"
      ]
     },
     "metadata": {
      "needs_background": "light"
     },
     "output_type": "display_data"
    }
   ],
   "source": [
    "sns.barplot(data=df, x='landing_page', y ='time_spent_on_the_page', palette= 'pastel')\n",
    "plt.title('Time spent on each landing page', fontsize=14)#add title\n",
    "plt.grid(b=True)#add grid \n",
    "plt.show()\n",
    "#as we analize categorical and numerical variables, we can apply the seaborn function barplot."
   ]
  },
  {
   "cell_type": "markdown",
   "id": "1b19c2cb",
   "metadata": {},
   "source": [
    "The information that the graphic representation shows it that the users tend to spend more time on the new landing page, therefore, we would need to do further research to know if the new one is more attractive for the users. Also, the confidence interval, shows more variability or dispersion on the time outcome for the old landing page."
   ]
  },
  {
   "cell_type": "markdown",
   "id": "71d26ddb",
   "metadata": {},
   "source": [
    "### Time spent on each landing page and number of new subscribers"
   ]
  },
  {
   "cell_type": "code",
   "execution_count": 334,
   "id": "d4adc8b9",
   "metadata": {},
   "outputs": [
    {
     "data": {
      "image/png": "[encoded data removed]",
      "text/plain": [
       "<Figure size 576x360 with 1 Axes>"
      ]
     },
     "metadata": {
      "needs_background": "light"
     },
     "output_type": "display_data"
    }
   ],
   "source": [
    "'''#as we analyze categorical and numerical variables, we can apply the seaborn function barplot. The hue argument\n",
    "allows to find out the number or proportion of people that subscribed after testing their respective landing\n",
    "pages. We are using barplot from seaborn'''\n",
    "plt.figure(figsize=(8,5))# set size for the plot\n",
    "sns.barplot(data=df, x='landing_page', y ='time_spent_on_the_page', hue=\"converted\", palette= 'pastel')\n",
    "plt.grid(b=True)#set grid\n",
    "plt.title('Time spent by landing page by converted users', fontsize=14)#set title\n",
    "plt.show()\n"
   ]
  },
  {
   "cell_type": "markdown",
   "id": "6321f04e",
   "metadata": {},
   "source": [
    "The new landing page seems to be more attractive for their visitors. The above plot shows a higher conversion rate for the new website landing page. Even the visitor that decided not to subscribe spend longer time on the new landing page. In both groups, the ones using the new landing page and old landing page, the time spend on the website varies a lot among individuals. Also, the dispersion seems a bit smaller for the new page subscribers, that spent the longer times on the web."
   ]
  },
  {
   "cell_type": "markdown",
   "id": "b1a5a49e",
   "metadata": {},
   "source": [
    "### New subscribers per group( converted)"
   ]
  },
  {
   "cell_type": "code",
   "execution_count": 335,
   "id": "76716a70",
   "metadata": {},
   "outputs": [
    {
     "data": {
      "image/png": "[encoded data removed]",
      "text/plain": [
       "<Figure size 576x360 with 1 Axes>"
      ]
     },
     "metadata": {
      "needs_background": "light"
     },
     "output_type": "display_data"
    }
   ],
   "source": [
    "plt.figure(figsize=(8,5))#set size\n",
    "sns.barplot(data=df, x='converted', y ='time_spent_on_the_page', palette= 'pastel')#plot data by using seaborn\n",
    "plt.title('Time spent on the web by users:subscribers vs not subscribers', fontsize=14)#add title\n",
    "plt.grid(b=True)#add grid\n",
    "plt.show()"
   ]
  },
  {
   "cell_type": "markdown",
   "id": "c7d6d869",
   "metadata": {},
   "source": [
    "\n",
    "The plot is clearly telling us that the users that became subscribers spent an average of two more minutes(around 6 minutes) over the ones that did not subscribed( about 4 minutes).\n",
    "\n"
   ]
  },
  {
   "cell_type": "code",
   "execution_count": 336,
   "id": "694930bb",
   "metadata": {},
   "outputs": [
    {
     "data": {
      "image/png": "[encoded data removed]",
      "text/plain": [
       "<Figure size 576x360 with 1 Axes>"
      ]
     },
     "metadata": {
      "needs_background": "light"
     },
     "output_type": "display_data"
    }
   ],
   "source": [
    "plt.figure(figsize=(8,5))#set size\n",
    "sns.countplot(data=df, x=df['group'],hue=df['converted'], palette='pastel')\n",
    "#We are using seaborn countplot to plot the group data and by adding the hue we add the converted variable \n",
    "ax=plt.title('subscribers per group:tratment and control group')\n",
    "plt.grid(b=True)#add grid\n",
    "plt.show()"
   ]
  },
  {
   "cell_type": "markdown",
   "id": "ef43439c",
   "metadata": {},
   "source": [
    "The graphic is making a very powerful statement. In the group of control (the one using the old landing page), the visitors that eventually subscribed where less in proportion than the ones that did not subscribe. The opposite behavior can be seen in the treatment group, in which most of them became subscribers."
   ]
  },
  {
   "cell_type": "markdown",
   "id": "d64a8df9",
   "metadata": {},
   "source": [
    "### Language preferred and new subscribers"
   ]
  },
  {
   "cell_type": "code",
   "execution_count": 337,
   "id": "39aec836",
   "metadata": {
    "scrolled": true
   },
   "outputs": [
    {
     "data": {
      "image/png": "[encoded data removed]",
      "text/plain": [
       "<Figure size 576x360 with 1 Axes>"
      ]
     },
     "metadata": {
      "needs_background": "light"
     },
     "output_type": "display_data"
    }
   ],
   "source": [
    "\n",
    "'''we are ploting a barplot for a categorical variable and a numeric. The hue argument will let us know how the language affect the time spent on the web.'''\n",
    "plt.figure(figsize=(8,5))#setting size for the plot\n",
    "sns.barplot(data=df, x='landing_page', y ='time_spent_on_the_page', hue='language_preferred', palette='pastel')\n",
    "plt.title('Time spent by users on each page per language', fontsize=14)#set title\n",
    "plt.grid(b=True)#show grid\n",
    "plt.show()"
   ]
  },
  {
   "cell_type": "markdown",
   "id": "1e7bfdf0",
   "metadata": {},
   "source": [
    "As expected, the average time of users of each language in the new landing page exceeded\n",
    "the time spent on the old page. The variability of the time spent on the landing page is also higher for the old page. \n",
    "The group that visited the old page in Spanish spent the greatest number of minutes among the three groups of languages (English, Spanish and French), followed by English speakers and in the last position the French ones.\n",
    "For the new landing page, all the users are spending longer times in comparison with the old landing page, but the English speakers are leading the number of minutes, followed by French speakers and in last position the Spanish ones.\n",
    "\n",
    "\n"
   ]
  },
  {
   "cell_type": "code",
   "execution_count": 338,
   "id": "a43585bf",
   "metadata": {},
   "outputs": [
    {
     "data": {
      "image/png": "[encoded data removed]",
      "text/plain": [
       "<Figure size 576x360 with 1 Axes>"
      ]
     },
     "metadata": {
      "needs_background": "light"
     },
     "output_type": "display_data"
    }
   ],
   "source": [
    "'''Countplot function to analyze one categorical variable. We use the hue argument to distinguish the different \n",
    "patterns in relation with the users' language '''\n",
    "plt.figure(figsize=(8,5))#set size\n",
    "sns.countplot(data=df, x='converted', hue='language_preferred', palette='pastel')\n",
    "plt.legend(loc='best', bbox_to_anchor=(0.5, 0., 0.5, 0.5))#position legend\n",
    "plt.title('Number of converted users per language', fontsize=14)#add title\n",
    "plt.grid(b=True)#add grid\n",
    "plt.show()"
   ]
  },
  {
   "cell_type": "code",
   "execution_count": 339,
   "id": "ec57f626",
   "metadata": {},
   "outputs": [
    {
     "data": {
      "text/plain": [
       "Text(0.5, 1.0, 'Converted by language and landing page')"
      ]
     },
     "execution_count": 339,
     "metadata": {},
     "output_type": "execute_result"
    },
    {
     "data": {
      "image/png": "[encoded data removed]",
      "text/plain": [
       "<Figure size 576x360 with 1 Axes>"
      ]
     },
     "metadata": {
      "needs_background": "light"
     },
     "output_type": "display_data"
    }
   ],
   "source": [
    "'''Swarmplot will allow us plot different categorical variables at once'''\n",
    "plt.figure(figsize=(8,5))#set size\n",
    "sns.swarmplot (data=df, y=df['converted'], x=df['language_preferred'], hue=df['landing_page'],linewidth=1,size=10)\n",
    "plt.legend(loc='best', bbox_to_anchor=(0.5, 0., 0.5, 0.5))#legend location\n",
    "plt.title('Converted by language and landing page', Fontsize=14)#add title"
   ]
  },
  {
   "cell_type": "markdown",
   "id": "8a7db092",
   "metadata": {},
   "source": [
    "The above plot is showing us the number of subscribers per language for both landing pages.\n",
    "For the Spanish speakers, the difference is not that much but still more users decided to subscribe after visiting the new landing page in comparison to the old one. (an average of 16 subscribers for the old page versus around 18 for the new one).\n",
    "When analyzing the data for the English Speakers, the change is substantial. They are the one that subscribed the most after using the new landing page. The number of subscribers almost double when compared to the old page visitors (only 11 subscribers for the old landing page versus 21 subscribers the new landing page).\n",
    "The French speakers are the ones that feel more attracted to the old landing page. in fact, the number of subscribers after visiting the new page is less than for the old landing page, (around 19 subscribers for the old landing page in comparison to 15 subscribers after visiting the new page). Generally speaking, we can suppose that the French users do not feel the new landing page is as interesting as the old one.\n"
   ]
  },
  {
   "cell_type": "markdown",
   "id": "1ad2e5d7",
   "metadata": {},
   "source": [
    "### Group and language sampling"
   ]
  },
  {
   "cell_type": "code",
   "execution_count": 340,
   "id": "83bd7af8",
   "metadata": {},
   "outputs": [
    {
     "data": {
      "image/png": "[encoded data removed]",
      "text/plain": [
       "<Figure size 576x360 with 1 Axes>"
      ]
     },
     "metadata": {
      "needs_background": "light"
     },
     "output_type": "display_data"
    },
    {
     "data": {
      "image/png": "[encoded data removed]",
      "text/plain": [
       "<Figure size 576x360 with 1 Axes>"
      ]
     },
     "metadata": {
      "needs_background": "light"
     },
     "output_type": "display_data"
    }
   ],
   "source": [
    "\n",
    "'''Countplot function will help us analize the categorical variable landing_page. When using the hue argument we can\n",
    "compare the number of users by their preferred language'''\n",
    "plt.figure(figsize=(8,5))#setting size of the plot\n",
    "sns.countplot(data=df, x=df['landing_page'],hue=df['language_preferred'], palette='pastel')\n",
    "plt.title('Language users per landing page', fontsize=14)#add title\n",
    "plt.legend(loc='best', bbox_to_anchor=(0.5, 0., 0.5, 0.5))#position legend\n",
    "plt.grid(b=True)# the grid function will help to see the values on the y axis.\n",
    "plt.show()\n",
    "\n",
    "'''Countplot function will help us analize the categorical variable group. When using the hue argument we can\n",
    "compare the number of users by their preferred language per group (control or treatment)'''\n",
    "plt.figure(figsize=(8,5))#set size\n",
    "sns.countplot(data=df, x=df['group'],hue=df['language_preferred'], palette='pastel')#use seaborn countplot function\n",
    "plt.title('Language users per group', fontsize=14)#set title\n",
    "plt.legend(loc='best', bbox_to_anchor=(0.5, 0., 0.5, 0.5))#position legend\n",
    "plt.grid(b=True)# the grid function will help to see the values on the y axis.\n",
    "plt.show()"
   ]
  },
  {
   "cell_type": "markdown",
   "id": "271f6566",
   "metadata": {},
   "source": [
    "Both graphics are providing similar information. The number of users per language are the same for the old and new landing pages: 17 people for Spanish and French and 16 for English for each group. Since the control group is only using the old landing page and the treatment group is only using the new page, the numbers are exactly the same when comparing language users per group to the language users per landing page."
   ]
  },
  {
   "cell_type": "markdown",
   "id": "27906576",
   "metadata": {
    "id": "27906576"
   },
   "source": [
    "## 2. Do the users spend more time on the new landing page than the existing landing page? (10 Marks)"
   ]
  },
  {
   "cell_type": "markdown",
   "id": "e5fdf0c8",
   "metadata": {
    "id": "e5fdf0c8"
   },
   "source": [
    "### Perform Visual Analysis"
   ]
  },
  {
   "cell_type": "code",
   "execution_count": 341,
   "id": "8541202c",
   "metadata": {},
   "outputs": [],
   "source": [
    "Mean_time_spent_old_landing_page= df[df['landing_page']=='old']['time_spent_on_the_page'].mean()\n",
    "#Calculating mean time spent on the old landing page by users"
   ]
  },
  {
   "cell_type": "code",
   "execution_count": 342,
   "id": "08efa1af",
   "metadata": {},
   "outputs": [],
   "source": [
    "Mean_time_spent_new_landing_page= df[df['landing_page']=='new']['time_spent_on_the_page'].mean()\n",
    "#Calculating mean time spent on the old landing page by users"
   ]
  },
  {
   "cell_type": "code",
   "execution_count": 343,
   "id": "6eZJa41eg21n",
   "metadata": {
    "id": "6eZJa41eg21n"
   },
   "outputs": [
    {
     "name": "stdout",
     "output_type": "stream",
     "text": [
      "The mean time spent on new landing page is 6.22 and the  average time on the old landing page is 4.53\n"
     ]
    }
   ],
   "source": [
    "print(f'The mean time spent on new landing page is {np.round(Mean_time_spent_new_landing_page,2)} and the  average time on the old landing page is {np.round(Mean_time_spent_old_landing_page,2)}')"
   ]
  },
  {
   "cell_type": "code",
   "execution_count": 344,
   "id": "1f832c84",
   "metadata": {},
   "outputs": [
    {
     "data": {
      "image/png": "[encoded data removed]",
      "text/plain": [
       "<Figure size 576x360 with 1 Axes>"
      ]
     },
     "metadata": {
      "needs_background": "light"
     },
     "output_type": "display_data"
    }
   ],
   "source": [
    "plt.figure(figsize= (8,5))# size figure\n",
    "sns.boxplot(x=df['time_spent_on_the_page'], y= df['landing_page'], showmeans=True,palette=\"Set3\")#plotting variables\n",
    "plt.axvline(x= 6.22, linewidth=2, color='r' )#creating a line for new landing page average time\n",
    "plt.axvline(x= 4.53, linewidth=2, color='pink' )#creating a line for new landing page average time\n",
    "plt.title('Mean times spent on each landing page', fontsize=14)#Creating a title\n",
    "plt.text(x=1.20,y=1, s='4.53 old page average')#adding text to the graph for old page average\n",
    "plt.text(x=3.20,y=0, s='6.22 new page average')#adding text to the graph for new page average\n",
    "plt.show()"
   ]
  },
  {
   "cell_type": "markdown",
   "id": "472091e0",
   "metadata": {},
   "source": [
    "\n",
    "The boxplot is showing a significant difference between the time spent on the old and new landing pages by the two groups.\n",
    "At first sight we could suspect that the mean time spent on the new landing page is greater than the mean time spend on\n",
    "the old one. It is important to highlight that there are some outliers for the time spent on the new landing page, that could affect the mean value, so this specific sample may differ from the of the overall population behavior. We need to do some research to be able to conclude that our initial perception this is true.\n",
    "\n"
   ]
  },
  {
   "cell_type": "markdown",
   "id": "56b3dafd",
   "metadata": {
    "id": "56b3dafd"
   },
   "source": [
    "### Step 1: Define the null and alternate hypotheses"
   ]
  },
  {
   "cell_type": "markdown",
   "id": "d2ac77ef",
   "metadata": {
    "id": "d2ac77ef"
   },
   "source": [
    "\n",
    "We need to test if the mean time spent on the new landing page is greater than the mean time spent on the old landing page. In order to test both mean values, we are supposing that for the null hypothesis both means are the same and for the alternative hypothesis the mean time value is greater for the new landing page than for the old one.\n",
    "$\\mu$1 is the mean time value for the old landing page.\n",
    "$\\mu$2 is the mean time value for the new landing page.\n",
    "\n",
    "#### null hypothesis\n",
    "$H_0$: $\\mu$1=$\\mu$2\n",
    "\n",
    "#### alternative hypothesis\n",
    "$H_a$: $\\mu$1<$\\mu$2"
   ]
  },
  {
   "cell_type": "markdown",
   "id": "c7ee4907",
   "metadata": {
    "id": "c7ee4907"
   },
   "source": [
    "### Step 2: Select Appropriate test"
   ]
  },
  {
   "cell_type": "markdown",
   "id": "2c183cd7",
   "metadata": {
    "id": "2c183cd7"
   },
   "source": [
    "In this case we are performing a one-tailed t-test for two independent samples for equality of means with unequal standard deviation.\n",
    "We are assuming that after comparing the two samples, the population standard deviations are unequal (both standard deviations are shown below).\n",
    "\n",
    "Let's check the assumptions:\n",
    "- Continuous data. Yes, time is considered a continuous variable.\n",
    "- Normally distributed populations. Yes, as per the central limit theorem, the sample means can be approximate to a normal distribution, since their size is greater than 30 (in this case the number of users is 50 per sample).\n",
    "- Independent populations. We are taking the samples from two different groups: the control group and the treatment group, therefore, they are two independent populations.\n",
    "- Unequal standard deviations. The standard deviation for both samples are different, so since we do not know the standard deviation for both populations, we can assume they are also different.\n",
    "- Random sampling from the population. Yes, the case study let us know that the 100 users have been selected randomly and divided into the two mentioned groups: control and treatment.\n"
   ]
  },
  {
   "cell_type": "code",
   "execution_count": 345,
   "id": "089bdcb3",
   "metadata": {},
   "outputs": [],
   "source": [
    "std_time_spent_new_page=df[df['landing_page']=='new']['time_spent_on_the_page'].std()"
   ]
  },
  {
   "cell_type": "code",
   "execution_count": 346,
   "id": "038b21b9",
   "metadata": {},
   "outputs": [],
   "source": [
    "std_time_spent_old_page=df[df['landing_page']=='old']['time_spent_on_the_page'].std()"
   ]
  },
  {
   "cell_type": "code",
   "execution_count": 347,
   "id": "d1e29b61",
   "metadata": {},
   "outputs": [
    {
     "name": "stdout",
     "output_type": "stream",
     "text": [
      "The standard deviation is unequal for the time spent on both old and new landing page. The standard deviation for the time spent on the new landing page is 1.82 minutes and the standard deviation spent for the time spent on the old landing page is 2.58 minutes\n"
     ]
    }
   ],
   "source": [
    "print(f'The standard deviation is unequal for the time spent on both old and new landing page. The standard deviation for the time spent on the new landing page is {np.round(std_time_spent_new_page,2)} minutes and the standard deviation spent for the time spent on the old landing page is {np.round(std_time_spent_old_page,2)} minutes')"
   ]
  },
  {
   "cell_type": "markdown",
   "id": "5797fcd6",
   "metadata": {},
   "source": [
    "We can also apply levene's test to find out if their variances are different or not. To use levene test to check the equality of variances, we need to set our the null hypothesis and alternative:\n",
    "\n",
    "#### null hypothesis\n",
    "𝐻0 :  both population variances are equal\n",
    "\n",
    "#### alternative hypothesis\n",
    "𝐻𝑎 :  population variances are unequal\n",
    "\n",
    "0.05 is the level of significance (alpha)\n",
    "\n"
   ]
  },
  {
   "cell_type": "code",
   "execution_count": 348,
   "id": "096d676a",
   "metadata": {},
   "outputs": [],
   "source": [
    "alpha=0.05"
   ]
  },
  {
   "cell_type": "code",
   "execution_count": 349,
   "id": "41ba1b96",
   "metadata": {},
   "outputs": [
    {
     "name": "stdout",
     "output_type": "stream",
     "text": [
      " levene_pvalue  is 0.009\n"
     ]
    }
   ],
   "source": [
    "levene_stat_t, levene_pvalue_t= stats.levene(Time_spent_users_old_landing_page,Time_spent_users_new_landing_page)\n",
    "print( f' levene_pvalue  is {np.round(levene_pvalue_t,4)}')"
   ]
  },
  {
   "cell_type": "code",
   "execution_count": 425,
   "id": "a4ed9fa7",
   "metadata": {},
   "outputs": [
    {
     "name": "stdout",
     "output_type": "stream",
     "text": [
      "variances are not equal because levene_pvalue is less than the level of significance alpha, so we reject the null hypothesis of homogeneity of variances\n"
     ]
    }
   ],
   "source": [
    "if levene_pvalue_t< alpha:\n",
    "    print('variances are not equal because levene_pvalue is less than the level of significance alpha, so we reject the null hypothesis of homogeneity of variances')\n",
    "else:\n",
    "     print('variances are equal because levene_pvalue greater than the level of significance alpha, so we fail to reject the null hypothesis of homogeneity of variances')   "
   ]
  },
  {
   "cell_type": "markdown",
   "id": "5aace5ab",
   "metadata": {},
   "source": [
    "Therefore we are using a one-tailed t-test for two independent samples for equality of means with unequal standard deviation."
   ]
  },
  {
   "cell_type": "markdown",
   "id": "3f58c9a7",
   "metadata": {
    "id": "3f58c9a7"
   },
   "source": [
    "### Step 3: Decide the significance level"
   ]
  },
  {
   "cell_type": "markdown",
   "id": "92d7d7ee",
   "metadata": {
    "id": "92d7d7ee"
   },
   "source": [
    "The level of significance (alpha) is $\\alpha$=0.05. The case study provides with the information."
   ]
  },
  {
   "cell_type": "code",
   "execution_count": 351,
   "id": "e7d200bb",
   "metadata": {},
   "outputs": [],
   "source": [
    "alpha = 0.05"
   ]
  },
  {
   "cell_type": "markdown",
   "id": "5fed2eac",
   "metadata": {
    "id": "5fed2eac"
   },
   "source": [
    "### Step 4: Collect and prepare data"
   ]
  },
  {
   "cell_type": "markdown",
   "id": "295be575",
   "metadata": {
    "id": "f5a59495"
   },
   "source": [
    "We are using the function ttest_ind from scipy.stats. In order to use this function, we are peparing the two groups of data to enter in the different arguments.\n"
   ]
  },
  {
   "cell_type": "code",
   "execution_count": 352,
   "id": "3eb7e6e0",
   "metadata": {},
   "outputs": [],
   "source": [
    "#sample population 1. times spent by users of the old landing page\n",
    "Time_spent_users_old_landing_page= df[df['landing_page']=='old']['time_spent_on_the_page']\n",
    "#sample population . times spent by users of the new landing page\n",
    "Time_spent_users_new_landing_page=df[df['landing_page']=='new']['time_spent_on_the_page']"
   ]
  },
  {
   "cell_type": "markdown",
   "id": "f5c5258d",
   "metadata": {
    "id": "f5c5258d"
   },
   "source": [
    "### Step 5: Calculate the p-value"
   ]
  },
  {
   "cell_type": "code",
   "execution_count": 433,
   "id": "fac8594a",
   "metadata": {
    "id": "fac8594a"
   },
   "outputs": [
    {
     "name": "stdout",
     "output_type": "stream",
     "text": [
      "the test statistice is -3.7868 and the p_value is 0.0001\n"
     ]
    }
   ],
   "source": [
    "test_stat, p_value=ttest_ind(Time_spent_users_old_landing_page,Time_spent_users_new_landing_page, equal_var=False ,alternative='less')\n",
    "print(f'the test statistice is {np.round(test_stat,4)} and the p_value is {np.round(p_value,4)}')"
   ]
  },
  {
   "cell_type": "markdown",
   "id": "359b12f8",
   "metadata": {
    "id": "359b12f8"
   },
   "source": [
    "### Step 6: Compare the p-value with $\\alpha$"
   ]
  },
  {
   "cell_type": "code",
   "execution_count": 354,
   "id": "fc2ee5cf",
   "metadata": {},
   "outputs": [
    {
     "name": "stdout",
     "output_type": "stream",
     "text": [
      "We reject the null hypothesis since 0.0001 is less than the level of significance\n"
     ]
    }
   ],
   "source": [
    "if p_value < alpha:\n",
    "    print(f'We reject the null hypothesis since {np.round(p_value,4)} is less than the level of significance')\n",
    "else:\n",
    "    print(f'We fail to reject the null hypothesis because {np.round(p_value,4)} is greater than level of significance')"
   ]
  },
  {
   "cell_type": "markdown",
   "id": "d9affc84",
   "metadata": {
    "id": "d9affc84"
   },
   "source": [
    "### Step 7:  Draw inference"
   ]
  },
  {
   "cell_type": "markdown",
   "id": "abef4a94",
   "metadata": {
    "id": "7be47289"
   },
   "source": [
    "When we compare the p_value and the level of significance, p_value is < $\\alpha$, therefore we reject the null hypothesis.  We can conclude that the mean times spend by users on both landing pages are not equal, as we initially supposed, users spend longer times visiting the new landing page.\n"
   ]
  },
  {
   "cell_type": "code",
   "execution_count": 423,
   "id": "8321ff53",
   "metadata": {},
   "outputs": [
    {
     "name": "stdout",
     "output_type": "stream",
     "text": [
      " t_distribution with 98 degrees of freedom\n"
     ]
    }
   ],
   "source": [
    "\n",
    "#t distribution degrees of freedom for two distrition = (size_sample1 + size_sample2) - 2\n",
    "print(F' t_distribution with {50+50-2} degrees of freedom')"
   ]
  },
  {
   "cell_type": "code",
   "execution_count": 356,
   "id": "c6394086",
   "metadata": {},
   "outputs": [
    {
     "name": "stdout",
     "output_type": "stream",
     "text": [
      "critical value is -1.66\n"
     ]
    }
   ],
   "source": [
    "Critical_value= t.ppf(0.05, 98)\n",
    "print(f'critical value is {np.round(Critical_value,2)}')"
   ]
  },
  {
   "cell_type": "code",
   "execution_count": 357,
   "id": "f60507ff",
   "metadata": {},
   "outputs": [],
   "source": [
    "x=np.linspace(-5,5,100)# we create the range of values for time_spent_on_landing_page\n",
    "x1=np.linspace(-4,Critical_value,100)"
   ]
  },
  {
   "cell_type": "code",
   "execution_count": 358,
   "id": "d3586696",
   "metadata": {},
   "outputs": [
    {
     "data": {
      "text/plain": [
       "<matplotlib.collections.PolyCollection at 0x28683ad0130>"
      ]
     },
     "execution_count": 358,
     "metadata": {},
     "output_type": "execute_result"
    },
    {
     "data": {
      "image/png": "[encoded data removed]",
      "text/plain": [
       "<Figure size 720x504 with 1 Axes>"
      ]
     },
     "metadata": {
      "needs_background": "light"
     },
     "output_type": "display_data"
    }
   ],
   "source": [
    "plt.figure(figsize=(10,7))\n",
    "plt.plot(x, t.pdf(x,98))# we plot the density distribution by using the normal function\n",
    "plt.axvline(x= -3.786, linewidth=2, color='yellow' )#we draw the test_statistic value\n",
    "plt.axvline(x= -1.66, linewidth=2, color='black' )# we draw the critical value\n",
    "plt.text(x=-4,y=0.015, s='test_statistic')#we add text on the plot with names for the lines\n",
    "plt.text(x=-2,y=0.025, s='critical_value')#we add text on the plot with names for the lines\n",
    "plt.fill_between(x1, t.pdf(x1,98), color='red') \n",
    "# fill the area under the curve after the critical value with red color to show the rejection area\n"
   ]
  },
  {
   "cell_type": "markdown",
   "id": "1ad0823a",
   "metadata": {
    "id": "1ad0823a"
   },
   "source": [
    "**A similar approach can be followed to answer the other questions.**"
   ]
  },
  {
   "cell_type": "markdown",
   "id": "353e9d24",
   "metadata": {
    "id": "353e9d24"
   },
   "source": [
    "## 3. Is the conversion rate (the proportion of users who visit the landing page and get converted) for the new page greater than the conversion rate for the old page? (10 Marks)"
   ]
  },
  {
   "cell_type": "markdown",
   "id": "0355e5c8",
   "metadata": {},
   "source": [
    "### Perform Visual Analysis"
   ]
  },
  {
   "cell_type": "code",
   "execution_count": 359,
   "id": "2a42f9c4",
   "metadata": {},
   "outputs": [
    {
     "data": {
      "text/plain": [
       "Text(0, 0.85, '21 converted new page')"
      ]
     },
     "execution_count": 359,
     "metadata": {},
     "output_type": "execute_result"
    },
    {
     "data": {
      "image/png": "[encoded data removed]",
      "text/plain": [
       "<Figure size 576x360 with 1 Axes>"
      ]
     },
     "metadata": {
      "needs_background": "light"
     },
     "output_type": "display_data"
    }
   ],
   "source": [
    "plt.figure(figsize=(8,5))#set the size of the plot\n",
    "sns.countplot (x= df['group'], hue=df['converted'], data=df, palette='Set3')\n",
    "#countplot will allow to plot two categorical variables as landing_page and Converted as hue argument.\n",
    "plt.title('Users that became subscribers by group', fontsize=14)#We add a title\n",
    "plt.text(x=1,y=0.85, s='33 converted new page', fontsize=12)#add text\n",
    "plt.text(x=0,y=0.85, s='21 converted new page', fontsize=12)#add text"
   ]
  },
  {
   "cell_type": "code",
   "execution_count": 360,
   "id": "eea8641f",
   "metadata": {},
   "outputs": [],
   "source": [
    "users_new_page=df[df['group']== 'treatment']['converted'].count()#number of users of new page"
   ]
  },
  {
   "cell_type": "code",
   "execution_count": 361,
   "id": "92cde850",
   "metadata": {},
   "outputs": [],
   "source": [
    "users_converted_new_page=df[df['group']=='treatment']['converted'].value_counts()['yes']\n",
    "#users of the new page the subscribed\n"
   ]
  },
  {
   "cell_type": "code",
   "execution_count": 362,
   "id": "314d101a",
   "metadata": {},
   "outputs": [
    {
     "name": "stdout",
     "output_type": "stream",
     "text": [
      "For 50 users of the new page, the converted users are 33\n"
     ]
    }
   ],
   "source": [
    "'''we print out the proportions for the new landing page'''\n",
    "print(f'For {users_new_page} users of the new page, the converted users are {users_converted_new_page}')"
   ]
  },
  {
   "cell_type": "code",
   "execution_count": 363,
   "id": "0ba6c1a0",
   "metadata": {},
   "outputs": [],
   "source": [
    "users_old_page=df[df['group']== 'control']['converted'].count()#number of users of old page"
   ]
  },
  {
   "cell_type": "code",
   "execution_count": 364,
   "id": "27a3da7f",
   "metadata": {},
   "outputs": [],
   "source": [
    "users_converted_old_page=df[df['group']== 'control']['converted'].value_counts()['yes']\n",
    "#users of the old page the subscribed"
   ]
  },
  {
   "cell_type": "code",
   "execution_count": 365,
   "id": "a655eb7e",
   "metadata": {},
   "outputs": [
    {
     "name": "stdout",
     "output_type": "stream",
     "text": [
      "For 50 users of the new page, the converted users are 21\n"
     ]
    }
   ],
   "source": [
    "'''we print out the proportions for the old landing page'''\n",
    "print(f'For {users_old_page} users of the new page, the converted users are {users_converted_old_page}')"
   ]
  },
  {
   "cell_type": "markdown",
   "id": "4e70d44b",
   "metadata": {},
   "source": [
    "As we can see, the number of users that became subscribers are greater for the new landing page.\n",
    "We will need to find out if the same outcome can be inferred for the population."
   ]
  },
  {
   "cell_type": "markdown",
   "id": "0095f389",
   "metadata": {},
   "source": [
    "### Step 1: Define the null and alternate hypotheses¶"
   ]
  },
  {
   "cell_type": "markdown",
   "id": "751ab0d3",
   "metadata": {},
   "source": [
    "We would like to find out if the proportion of conversion rate (users that become subscribers) is the same for both landing pages or on the contrary, greater for the new landing page.\n",
    "$p1$ is the proportion of conversion for the old landing page (control group). $p2$ is the rate of converstion for the new landing page (treatment group).\n",
    "\n",
    "#### null hypothesis\n",
    "$H_0$: $p1$ = $p2$\n",
    "\n",
    "#### alternative hypothesis\n",
    "$H_a$: $p1$ < $p2$\n",
    "\n"
   ]
  },
  {
   "cell_type": "markdown",
   "id": "5d3e6d6a",
   "metadata": {
    "id": "b7f52898"
   },
   "source": [
    "### Step 2: Select Appropriate test"
   ]
  },
  {
   "cell_type": "markdown",
   "id": "a731d4e0",
   "metadata": {},
   "source": [
    "\n",
    "This is a one-tailed z-test for two population proportions.\n",
    "Let's check the assumptions:\n",
    "- Binomially distributed population. Yes, an user either convert or not.\n",
    "- Random sampling. Yes, it is given by the case study.\n",
    "- We can approximate the binomial distribution to a normal distribution by the Central limit theorem if np and n(1-p) are bigger than 10 for each group. yes, as we are showing below, all the values we obtained after calculating the number of observations per group and number of converted users are greater than 10.\n"
   ]
  },
  {
   "cell_type": "code",
   "execution_count": 366,
   "id": "c983054c",
   "metadata": {},
   "outputs": [],
   "source": [
    "n1=users_old_page\n",
    "n2=users_new_page\n",
    "p1=users_converted_old_page/users_old_page\n",
    "p2=users_converted_new_page/users_new_page\n"
   ]
  },
  {
   "cell_type": "code",
   "execution_count": 367,
   "id": "2378fc51",
   "metadata": {},
   "outputs": [
    {
     "data": {
      "text/plain": [
       "(21.0, 29.0, 33.0, 17.0)"
      ]
     },
     "execution_count": 367,
     "metadata": {},
     "output_type": "execute_result"
    }
   ],
   "source": [
    "n1*p1, np.round(n1*(1-p1),2),n2*p2, n2*(1-p2)# all the values are greater than 10"
   ]
  },
  {
   "cell_type": "markdown",
   "id": "2d9eee0b",
   "metadata": {},
   "source": [
    "### Step 3: Decide the significance level"
   ]
  },
  {
   "cell_type": "markdown",
   "id": "31a426c0",
   "metadata": {},
   "source": [
    "We are given the level of significance $\\alpha$, that is 0.05. "
   ]
  },
  {
   "cell_type": "code",
   "execution_count": 368,
   "id": "ae421db2",
   "metadata": {},
   "outputs": [],
   "source": [
    "alpha= 0.05"
   ]
  },
  {
   "cell_type": "markdown",
   "id": "800afee1",
   "metadata": {},
   "source": [
    "### Step 4: Collect and prepare data¶"
   ]
  },
  {
   "cell_type": "code",
   "execution_count": 369,
   "id": "5b628eff",
   "metadata": {},
   "outputs": [],
   "source": [
    "n_converted=[users_converted_old_page,users_converted_new_page]"
   ]
  },
  {
   "cell_type": "code",
   "execution_count": 370,
   "id": "f2bbf839",
   "metadata": {},
   "outputs": [
    {
     "data": {
      "text/plain": [
       "[21, 33]"
      ]
     },
     "execution_count": 370,
     "metadata": {},
     "output_type": "execute_result"
    }
   ],
   "source": [
    "n_converted"
   ]
  },
  {
   "cell_type": "code",
   "execution_count": 371,
   "id": "2bfbcd83",
   "metadata": {},
   "outputs": [],
   "source": [
    "total_users_per_group=[users_old_page,users_new_page]"
   ]
  },
  {
   "cell_type": "code",
   "execution_count": 372,
   "id": "abe84d54",
   "metadata": {},
   "outputs": [
    {
     "data": {
      "text/plain": [
       "[50, 50]"
      ]
     },
     "execution_count": 372,
     "metadata": {},
     "output_type": "execute_result"
    }
   ],
   "source": [
    "total_users_per_group"
   ]
  },
  {
   "cell_type": "markdown",
   "id": "21c9d1bc",
   "metadata": {},
   "source": [
    "### Step 5: Calculate the p-value"
   ]
  },
  {
   "cell_type": "code",
   "execution_count": 373,
   "id": "24153ad1",
   "metadata": {},
   "outputs": [
    {
     "name": "stdout",
     "output_type": "stream",
     "text": [
      " t_test is -2.4077,P_value is 0.008\n"
     ]
    }
   ],
   "source": [
    "\n",
    "test_stat2, p_value2= proportions_ztest(n_converted,total_users_per_group, alternative='smaller')\n",
    "print(f' t_test is {np.round (test_stat2,4)},P_value is {np.round(p_value2,4)}')"
   ]
  },
  {
   "cell_type": "markdown",
   "id": "8b268c7c",
   "metadata": {},
   "source": [
    "### Step 6: Compare the p-value with $\\alpha$"
   ]
  },
  {
   "cell_type": "code",
   "execution_count": 422,
   "id": "bb057ffe",
   "metadata": {},
   "outputs": [
    {
     "name": "stdout",
     "output_type": "stream",
     "text": [
      "Since p_value is 0.008,that is less than alpha, we reject the null hypothesis \n"
     ]
    }
   ],
   "source": [
    "if p_value2 < alpha:\n",
    "    print(f'Since p_value is {np.round(p_value2,4)},that is less than alpha, we reject the null hypothesis ')\n",
    "else:\n",
    "    print(f'Since p_value is {np.round(p_value2,4)}, that is is greater than alpha, we fail to reject the null hypothesis')\n"
   ]
  },
  {
   "cell_type": "markdown",
   "id": "de68dd0d",
   "metadata": {},
   "source": [
    "### Step 7: Draw inference¶"
   ]
  },
  {
   "cell_type": "markdown",
   "id": "df0039f0",
   "metadata": {},
   "source": [
    "The P_value is lower than the level of significance,alpha, therefore we reject the null hypothesis. We can we conclude that the proportion of users that became subscribers of ENews_Express after visiting the old landing page is different from the ones that visited the new landing page. The proportion of converted users is larger for the new landing page. "
   ]
  },
  {
   "cell_type": "code",
   "execution_count": 375,
   "id": "bcdfe779",
   "metadata": {},
   "outputs": [],
   "source": [
    "Critical_value2=norm.ppf(0.05,0,1)#we find the critical value to learn where the rejection area starts."
   ]
  },
  {
   "cell_type": "code",
   "execution_count": 376,
   "id": "9a96b76f",
   "metadata": {},
   "outputs": [
    {
     "name": "stdout",
     "output_type": "stream",
     "text": [
      " the critical value is -1.64.\n"
     ]
    }
   ],
   "source": [
    "print(f' the critical value is {np.round(Critical_value2,2)}.')"
   ]
  },
  {
   "cell_type": "code",
   "execution_count": 377,
   "id": "4c6976be",
   "metadata": {},
   "outputs": [],
   "source": [
    "x3= np.linspace(-3,3,100) #we create a variable x3 for the axis x\n"
   ]
  },
  {
   "cell_type": "code",
   "execution_count": 378,
   "id": "162e4f7c",
   "metadata": {},
   "outputs": [],
   "source": [
    "x4=np.linspace(-3,Critical_value2,100)#area under the curve up to the  critical value"
   ]
  },
  {
   "cell_type": "code",
   "execution_count": 379,
   "id": "6776e0d0",
   "metadata": {},
   "outputs": [
    {
     "data": {
      "text/plain": [
       "<matplotlib.collections.PolyCollection at 0x2868892ba60>"
      ]
     },
     "execution_count": 379,
     "metadata": {},
     "output_type": "execute_result"
    },
    {
     "data": {
      "image/png": "[encoded data removed]",
      "text/plain": [
       "<Figure size 576x360 with 1 Axes>"
      ]
     },
     "metadata": {
      "needs_background": "light"
     },
     "output_type": "display_data"
    }
   ],
   "source": [
    "#Since the distribution can be approximate to a normal, we are using a standard normal distribution\n",
    "plt.figure(figsize=(8,5))\n",
    "plt.plot(x3,norm.pdf(x3,0,1))\n",
    "plt.axvline(x= -2.4077, linewidth=2, color='yellow' )#we draw the test_statistic value\n",
    "plt.axvline(x= -1.64, linewidth=2, color='black' )# we draw the critical value\n",
    "plt.text(x=-3,y=0.1, s='test_statistic')#we add text on the plot with names for the lines\n",
    "plt.text(x=-2,y=0.25, s='critical_value')#we add text on the plot with names for the lines\n",
    "plt.fill_between(x4,norm.pdf(x4,0,1),color='red') \n",
    "# fill the area under the curve after the critical value with red color to show the rejection area"
   ]
  },
  {
   "cell_type": "markdown",
   "id": "d49bfa2d",
   "metadata": {
    "id": "d49bfa2d"
   },
   "source": [
    "## 4. Is the conversion and preferred language are independent or related? (10 Marks)"
   ]
  },
  {
   "cell_type": "markdown",
   "id": "fb221083",
   "metadata": {
    "id": "b0e63f17"
   },
   "source": [
    "### Perform Visual Analysis"
   ]
  },
  {
   "cell_type": "code",
   "execution_count": 380,
   "id": "5b1927b3",
   "metadata": {},
   "outputs": [
    {
     "data": {
      "image/png": "[encoded data removed]",
      "text/plain": [
       "<Figure size 576x360 with 1 Axes>"
      ]
     },
     "metadata": {
      "needs_background": "light"
     },
     "output_type": "display_data"
    }
   ],
   "source": [
    "plt.figure(figsize= (8,5))#set size\n",
    "sns.countplot(x=df['converted'], hue=df['language_preferred'], palette=\"Set3\")\n",
    "#we use countplot along with the argument hue to plot both variables, language_preferred and converted\n",
    "plt.legend(loc='lower right')#legend location\n",
    "plt.grid(b=True)#add grid\n",
    "plt.title('Subscribers by language', fontsize=14)#add title\n",
    "plt.show()"
   ]
  },
  {
   "cell_type": "markdown",
   "id": "812be761",
   "metadata": {},
   "source": [
    "The graphic representation is telling us that for both groups, the visitors that subscribed the most were the English speakers, followed by the Spanish speakers and in last position the French speakers.Language could be related to the language preferred but we need to perform a test in order to coclude that. "
   ]
  },
  {
   "cell_type": "markdown",
   "id": "c9f69c7b",
   "metadata": {},
   "source": [
    "### Step 1: Define the null and alternate hypotheses"
   ]
  },
  {
   "cell_type": "markdown",
   "id": "88703188",
   "metadata": {},
   "source": [
    "\n",
    "We need to find out if both categorical variables, the converted users (users that subscribed) and the language are related. Basically, we need to test if converted users and language_preferred are independent variables or not. \n",
    "\n",
    "#### null hypothesis\n",
    "$H_0$: Converted and language_preferred variables are independent \n",
    "\n",
    "#### alternative hypothesis\n",
    "$H_a$: Converted and language preferred variables are related \n"
   ]
  },
  {
   "cell_type": "markdown",
   "id": "662a8157",
   "metadata": {},
   "source": [
    "### Step 2: Select Appropriate test"
   ]
  },
  {
   "cell_type": "markdown",
   "id": "5d514d8d",
   "metadata": {},
   "source": [
    "\n",
    "The test we need to apply is Chi_square test for independence in order to check the independence of both variables.\n",
    "\n",
    "Let's check the assumptions:\n",
    "-categorical variables. yes, language_preferred and converted are both categorical\n",
    "-expected number observations for each level is at least 5. Yes, we have more than 5 observations for the three languages and for the converted variable (yes or no).\n",
    "-Random sampling. yes, as indicated at the beginning of the case.\n",
    "\n"
   ]
  },
  {
   "cell_type": "markdown",
   "id": "58b4b862",
   "metadata": {},
   "source": [
    "### Step 3: Decide the significance level"
   ]
  },
  {
   "cell_type": "markdown",
   "id": "5dacf082",
   "metadata": {},
   "source": [
    "As per the case study initial information, we are informed that the level of significance (alpha) is 0.05."
   ]
  },
  {
   "cell_type": "code",
   "execution_count": 381,
   "id": "9cca3cd7",
   "metadata": {},
   "outputs": [],
   "source": [
    "alpha=0.05"
   ]
  },
  {
   "cell_type": "markdown",
   "id": "0cac9805",
   "metadata": {},
   "source": [
    "### Step 4: Collect and prepare data"
   ]
  },
  {
   "cell_type": "code",
   "execution_count": 382,
   "id": "dcf36c7b",
   "metadata": {},
   "outputs": [],
   "source": [
    "Table=pd.crosstab(df['converted'],df['language_preferred'] )"
   ]
  },
  {
   "cell_type": "markdown",
   "id": "1e6eacf6",
   "metadata": {},
   "source": [
    "We create a contingency table by using the function crosstab. We have selected the two variables that we need to analyze and the cross-table function will count the frequencies by default.\n"
   ]
  },
  {
   "cell_type": "code",
   "execution_count": 383,
   "id": "38834937",
   "metadata": {},
   "outputs": [
    {
     "data": {
      "text/html": [
       "<div>\n",
       "<style scoped>\n",
       "    .dataframe tbody tr th:only-of-type {\n",
       "        vertical-align: middle;\n",
       "    }\n",
       "\n",
       "    .dataframe tbody tr th {\n",
       "        vertical-align: top;\n",
       "    }\n",
       "\n",
       "    .dataframe thead th {\n",
       "        text-align: right;\n",
       "    }\n",
       "</style>\n",
       "<table border=\"1\" class=\"dataframe\">\n",
       "  <thead>\n",
       "    <tr style=\"text-align: right;\">\n",
       "      <th>language_preferred</th>\n",
       "      <th>English</th>\n",
       "      <th>French</th>\n",
       "      <th>Spanish</th>\n",
       "    </tr>\n",
       "    <tr>\n",
       "      <th>converted</th>\n",
       "      <th></th>\n",
       "      <th></th>\n",
       "      <th></th>\n",
       "    </tr>\n",
       "  </thead>\n",
       "  <tbody>\n",
       "    <tr>\n",
       "      <th>no</th>\n",
       "      <td>11</td>\n",
       "      <td>19</td>\n",
       "      <td>16</td>\n",
       "    </tr>\n",
       "    <tr>\n",
       "      <th>yes</th>\n",
       "      <td>21</td>\n",
       "      <td>15</td>\n",
       "      <td>18</td>\n",
       "    </tr>\n",
       "  </tbody>\n",
       "</table>\n",
       "</div>"
      ],
      "text/plain": [
       "language_preferred  English  French  Spanish\n",
       "converted                                   \n",
       "no                       11      19       16\n",
       "yes                      21      15       18"
      ]
     },
     "execution_count": 383,
     "metadata": {},
     "output_type": "execute_result"
    }
   ],
   "source": [
    "Table[['English','French','Spanish']]"
   ]
  },
  {
   "cell_type": "markdown",
   "id": "c997905c",
   "metadata": {},
   "source": [
    "### Step 5: Calculate the p-value"
   ]
  },
  {
   "cell_type": "code",
   "execution_count": 384,
   "id": "cdc64d6c",
   "metadata": {},
   "outputs": [
    {
     "name": "stdout",
     "output_type": "stream",
     "text": [
      " The test-stat is 3.093 and the p_value 0.213, degree of freedom 2\n"
     ]
    }
   ],
   "source": [
    "chi2, p_value3, dof, exp_freq = chi2_contingency(Table)\n",
    "print(f' The test-stat is {np.round(chi2,4)} and the p_value {np.round(p_value3,4)}, degree of freedom {dof}')"
   ]
  },
  {
   "cell_type": "markdown",
   "id": "7fb012eb",
   "metadata": {},
   "source": [
    "### Step 6: Compare the p-value with $\\alpha$"
   ]
  },
  {
   "cell_type": "code",
   "execution_count": 385,
   "id": "28491a56",
   "metadata": {},
   "outputs": [
    {
     "name": "stdout",
     "output_type": "stream",
     "text": [
      " We fail to reject the null hypothesis since p_value 0.213 is greater than the alpha\n"
     ]
    }
   ],
   "source": [
    "if p_value3 < alpha:\n",
    "    print(f' We reject the null hypothesis since p_value {np.round(p_value3,4)} is less than alpha')\n",
    "else:\n",
    "    print(f' We fail to reject the null hypothesis since p_value {np.round(p_value3,4)} is greater than the alpha')"
   ]
  },
  {
   "cell_type": "markdown",
   "id": "eab5916a",
   "metadata": {},
   "source": [
    "### Step 7:  Draw inference"
   ]
  },
  {
   "cell_type": "markdown",
   "id": "1e437647",
   "metadata": {},
   "source": [
    "According to our analysis, the chi-Square test for independence is telling us that the null hypothesis is true, the language_preferred and the rate of conversion (number of users that became subscribers) are independent. So,the decision  to subscribe after visiting any of the landing pages was independent of the language preference for the different individuals."
   ]
  },
  {
   "cell_type": "code",
   "execution_count": 386,
   "id": "681a0ae6",
   "metadata": {},
   "outputs": [
    {
     "name": "stdout",
     "output_type": "stream",
     "text": [
      " The critical value is 5.9915\n"
     ]
    }
   ],
   "source": [
    "'''From stats we are using chi square distribution to find out the critical value. We are \n",
    "using a chi2 of 2 degree of freedom since the number of rows of the contigency table are 2 \n",
    "and the columns are 3.The df for the chi2 for independence are number of (rows-1)*(columns-1)\n",
    "that is (2-1)*(3-1)=2. The chi2 test for independence is a right tailed test.'''\n",
    "import scipy.stats as stats\n",
    "from scipy.stats import chi2\n",
    "critical_value3=stats.chi2.ppf(0.95, df=2)\n",
    "print(F' The critical value is {np.round(critical_value3,4)}')"
   ]
  },
  {
   "cell_type": "code",
   "execution_count": 387,
   "id": "61899308",
   "metadata": {},
   "outputs": [],
   "source": [
    "import scipy.stats as stats\n",
    "from scipy.stats import chi2 # we import the chi2 function\n"
   ]
  },
  {
   "cell_type": "code",
   "execution_count": 388,
   "id": "ef426bae",
   "metadata": {},
   "outputs": [],
   "source": [
    "x5=np.linspace(0,10,50)#creating x-axis to plot the chi2 density function"
   ]
  },
  {
   "cell_type": "code",
   "execution_count": 389,
   "id": "3286a1f5",
   "metadata": {},
   "outputs": [],
   "source": [
    "x6=np.linspace(critical_value3,10,50)# creating the x axis to color the rejection area"
   ]
  },
  {
   "cell_type": "code",
   "execution_count": 390,
   "id": "67476020",
   "metadata": {},
   "outputs": [
    {
     "data": {
      "text/plain": [
       "<matplotlib.collections.PolyCollection at 0x286839e4d90>"
      ]
     },
     "execution_count": 390,
     "metadata": {},
     "output_type": "execute_result"
    },
    {
     "data": {
      "image/png": "[encoded data removed]",
      "text/plain": [
       "<Figure size 432x288 with 1 Axes>"
      ]
     },
     "metadata": {
      "needs_background": "light"
     },
     "output_type": "display_data"
    }
   ],
   "source": [
    "plt.plot(x5, stats.chi2.pdf(x5,df=2), color='red', linewidth=3)\n",
    "plt.axvline(x= 3.093, linewidth=2, color='yellow' )#we draw the test_statistic value\n",
    "plt.axvline(x= 5.9915, linewidth=2, color='black' )# we draw the critical value\n",
    "plt.text(x=3,y=0.1, s='test_statistic')#we add text on the plot with names for the lines\n",
    "plt.text(x=5,y=0.25, s='critical_value')#we add text on the plot with names for the lines\n",
    "plt.fill_between(x6,stats.chi2.pdf(x6, df=2),color='red')"
   ]
  },
  {
   "cell_type": "markdown",
   "id": "8d585a90",
   "metadata": {
    "id": "8d585a90"
   },
   "source": [
    "## 5. Is the time spent on the new page same for the different language users? (10 Marks)"
   ]
  },
  {
   "cell_type": "markdown",
   "id": "a700554a",
   "metadata": {
    "id": "b422f395"
   },
   "source": [
    "### Perform Visual Analysis"
   ]
  },
  {
   "cell_type": "code",
   "execution_count": 391,
   "id": "a63c7e3a",
   "metadata": {},
   "outputs": [],
   "source": [
    "#We select the variables we are interested to work with a sub_table\n",
    "time_landing_page_language= df[['landing_page','language_preferred','time_spent_on_the_page']]"
   ]
  },
  {
   "cell_type": "code",
   "execution_count": 392,
   "id": "b7fb5ef0",
   "metadata": {},
   "outputs": [],
   "source": [
    "#We select only the rows that apply to the new landing page by using a new sub-table.\n",
    "new_page_time_language=time_landing_page_language[time_landing_page_language['landing_page']== 'new']"
   ]
  },
  {
   "cell_type": "code",
   "execution_count": 393,
   "id": "16660dd1",
   "metadata": {},
   "outputs": [
    {
     "data": {
      "text/html": [
       "<div>\n",
       "<style scoped>\n",
       "    .dataframe tbody tr th:only-of-type {\n",
       "        vertical-align: middle;\n",
       "    }\n",
       "\n",
       "    .dataframe tbody tr th {\n",
       "        vertical-align: top;\n",
       "    }\n",
       "\n",
       "    .dataframe thead th {\n",
       "        text-align: right;\n",
       "    }\n",
       "</style>\n",
       "<table border=\"1\" class=\"dataframe\">\n",
       "  <thead>\n",
       "    <tr style=\"text-align: right;\">\n",
       "      <th></th>\n",
       "      <th>landing_page</th>\n",
       "      <th>language_preferred</th>\n",
       "      <th>time_spent_on_the_page</th>\n",
       "    </tr>\n",
       "  </thead>\n",
       "  <tbody>\n",
       "    <tr>\n",
       "      <th>1</th>\n",
       "      <td>new</td>\n",
       "      <td>English</td>\n",
       "      <td>7.13</td>\n",
       "    </tr>\n",
       "    <tr>\n",
       "      <th>2</th>\n",
       "      <td>new</td>\n",
       "      <td>Spanish</td>\n",
       "      <td>4.40</td>\n",
       "    </tr>\n",
       "    <tr>\n",
       "      <th>4</th>\n",
       "      <td>new</td>\n",
       "      <td>Spanish</td>\n",
       "      <td>4.75</td>\n",
       "    </tr>\n",
       "    <tr>\n",
       "      <th>6</th>\n",
       "      <td>new</td>\n",
       "      <td>French</td>\n",
       "      <td>5.25</td>\n",
       "    </tr>\n",
       "    <tr>\n",
       "      <th>8</th>\n",
       "      <td>new</td>\n",
       "      <td>French</td>\n",
       "      <td>10.71</td>\n",
       "    </tr>\n",
       "  </tbody>\n",
       "</table>\n",
       "</div>"
      ],
      "text/plain": [
       "  landing_page language_preferred  time_spent_on_the_page\n",
       "1          new            English                    7.13\n",
       "2          new            Spanish                    4.40\n",
       "4          new            Spanish                    4.75\n",
       "6          new             French                    5.25\n",
       "8          new             French                   10.71"
      ]
     },
     "execution_count": 393,
     "metadata": {},
     "output_type": "execute_result"
    }
   ],
   "source": [
    "new_page_time_language.head()"
   ]
  },
  {
   "cell_type": "code",
   "execution_count": 394,
   "id": "7781a283",
   "metadata": {},
   "outputs": [],
   "source": [
    "#We select only the variables which preferred language is Spanish.\n",
    "new_page_Spanish_time=new_page_time_language[new_page_time_language['language_preferred']== 'Spanish']"
   ]
  },
  {
   "cell_type": "code",
   "execution_count": 395,
   "id": "6d435737",
   "metadata": {},
   "outputs": [
    {
     "data": {
      "text/html": [
       "<div>\n",
       "<style scoped>\n",
       "    .dataframe tbody tr th:only-of-type {\n",
       "        vertical-align: middle;\n",
       "    }\n",
       "\n",
       "    .dataframe tbody tr th {\n",
       "        vertical-align: top;\n",
       "    }\n",
       "\n",
       "    .dataframe thead th {\n",
       "        text-align: right;\n",
       "    }\n",
       "</style>\n",
       "<table border=\"1\" class=\"dataframe\">\n",
       "  <thead>\n",
       "    <tr style=\"text-align: right;\">\n",
       "      <th></th>\n",
       "      <th>landing_page</th>\n",
       "      <th>language_preferred</th>\n",
       "      <th>time_spent_on_the_page</th>\n",
       "    </tr>\n",
       "  </thead>\n",
       "  <tbody>\n",
       "    <tr>\n",
       "      <th>2</th>\n",
       "      <td>new</td>\n",
       "      <td>Spanish</td>\n",
       "      <td>4.40</td>\n",
       "    </tr>\n",
       "    <tr>\n",
       "      <th>4</th>\n",
       "      <td>new</td>\n",
       "      <td>Spanish</td>\n",
       "      <td>4.75</td>\n",
       "    </tr>\n",
       "    <tr>\n",
       "      <th>12</th>\n",
       "      <td>new</td>\n",
       "      <td>Spanish</td>\n",
       "      <td>5.86</td>\n",
       "    </tr>\n",
       "    <tr>\n",
       "      <th>15</th>\n",
       "      <td>new</td>\n",
       "      <td>Spanish</td>\n",
       "      <td>6.27</td>\n",
       "    </tr>\n",
       "    <tr>\n",
       "      <th>24</th>\n",
       "      <td>new</td>\n",
       "      <td>Spanish</td>\n",
       "      <td>6.18</td>\n",
       "    </tr>\n",
       "  </tbody>\n",
       "</table>\n",
       "</div>"
      ],
      "text/plain": [
       "   landing_page language_preferred  time_spent_on_the_page\n",
       "2           new            Spanish                    4.40\n",
       "4           new            Spanish                    4.75\n",
       "12          new            Spanish                    5.86\n",
       "15          new            Spanish                    6.27\n",
       "24          new            Spanish                    6.18"
      ]
     },
     "execution_count": 395,
     "metadata": {},
     "output_type": "execute_result"
    }
   ],
   "source": [
    "new_page_Spanish_time.head()"
   ]
  },
  {
   "cell_type": "code",
   "execution_count": 396,
   "id": "0adf1454",
   "metadata": {},
   "outputs": [],
   "source": [
    "#The mean time spent on the landig page by users that use the new page in Spanish\n",
    "mean_time_Spanish_new_page=new_page_Spanish_time['time_spent_on_the_page'].mean()\n"
   ]
  },
  {
   "cell_type": "code",
   "execution_count": 397,
   "id": "5a1ca557",
   "metadata": {},
   "outputs": [],
   "source": [
    "#We select only the variables which preferred language is French.\n",
    "new_page_French_time=new_page_time_language[new_page_time_language['language_preferred']== 'French']"
   ]
  },
  {
   "cell_type": "code",
   "execution_count": 398,
   "id": "f15e66e7",
   "metadata": {},
   "outputs": [
    {
     "data": {
      "text/html": [
       "<div>\n",
       "<style scoped>\n",
       "    .dataframe tbody tr th:only-of-type {\n",
       "        vertical-align: middle;\n",
       "    }\n",
       "\n",
       "    .dataframe tbody tr th {\n",
       "        vertical-align: top;\n",
       "    }\n",
       "\n",
       "    .dataframe thead th {\n",
       "        text-align: right;\n",
       "    }\n",
       "</style>\n",
       "<table border=\"1\" class=\"dataframe\">\n",
       "  <thead>\n",
       "    <tr style=\"text-align: right;\">\n",
       "      <th></th>\n",
       "      <th>landing_page</th>\n",
       "      <th>language_preferred</th>\n",
       "      <th>time_spent_on_the_page</th>\n",
       "    </tr>\n",
       "  </thead>\n",
       "  <tbody>\n",
       "    <tr>\n",
       "      <th>6</th>\n",
       "      <td>new</td>\n",
       "      <td>French</td>\n",
       "      <td>5.25</td>\n",
       "    </tr>\n",
       "    <tr>\n",
       "      <th>8</th>\n",
       "      <td>new</td>\n",
       "      <td>French</td>\n",
       "      <td>10.71</td>\n",
       "    </tr>\n",
       "    <tr>\n",
       "      <th>13</th>\n",
       "      <td>new</td>\n",
       "      <td>French</td>\n",
       "      <td>6.03</td>\n",
       "    </tr>\n",
       "    <tr>\n",
       "      <th>28</th>\n",
       "      <td>new</td>\n",
       "      <td>French</td>\n",
       "      <td>7.81</td>\n",
       "    </tr>\n",
       "    <tr>\n",
       "      <th>46</th>\n",
       "      <td>new</td>\n",
       "      <td>French</td>\n",
       "      <td>5.37</td>\n",
       "    </tr>\n",
       "  </tbody>\n",
       "</table>\n",
       "</div>"
      ],
      "text/plain": [
       "   landing_page language_preferred  time_spent_on_the_page\n",
       "6           new             French                    5.25\n",
       "8           new             French                   10.71\n",
       "13          new             French                    6.03\n",
       "28          new             French                    7.81\n",
       "46          new             French                    5.37"
      ]
     },
     "execution_count": 398,
     "metadata": {},
     "output_type": "execute_result"
    }
   ],
   "source": [
    "new_page_French_time.head()#show the first rows of the table"
   ]
  },
  {
   "cell_type": "code",
   "execution_count": 399,
   "id": "a3229d3a",
   "metadata": {},
   "outputs": [],
   "source": [
    "#The mean time spent on the landig page by users that use the new page in French\n",
    "mean_time_French_new_page=new_page_French_time['time_spent_on_the_page'].mean()\n"
   ]
  },
  {
   "cell_type": "code",
   "execution_count": 400,
   "id": "a1a838ba",
   "metadata": {},
   "outputs": [],
   "source": [
    "#We select only the variables which preferred language is English.\n",
    "new_page_English_time=new_page_time_language[new_page_time_language['language_preferred']== 'English']"
   ]
  },
  {
   "cell_type": "code",
   "execution_count": 401,
   "id": "6cb4b4d7",
   "metadata": {},
   "outputs": [
    {
     "data": {
      "text/html": [
       "<div>\n",
       "<style scoped>\n",
       "    .dataframe tbody tr th:only-of-type {\n",
       "        vertical-align: middle;\n",
       "    }\n",
       "\n",
       "    .dataframe tbody tr th {\n",
       "        vertical-align: top;\n",
       "    }\n",
       "\n",
       "    .dataframe thead th {\n",
       "        text-align: right;\n",
       "    }\n",
       "</style>\n",
       "<table border=\"1\" class=\"dataframe\">\n",
       "  <thead>\n",
       "    <tr style=\"text-align: right;\">\n",
       "      <th></th>\n",
       "      <th>landing_page</th>\n",
       "      <th>language_preferred</th>\n",
       "      <th>time_spent_on_the_page</th>\n",
       "    </tr>\n",
       "  </thead>\n",
       "  <tbody>\n",
       "    <tr>\n",
       "      <th>1</th>\n",
       "      <td>new</td>\n",
       "      <td>English</td>\n",
       "      <td>7.13</td>\n",
       "    </tr>\n",
       "    <tr>\n",
       "      <th>16</th>\n",
       "      <td>new</td>\n",
       "      <td>English</td>\n",
       "      <td>8.73</td>\n",
       "    </tr>\n",
       "    <tr>\n",
       "      <th>22</th>\n",
       "      <td>new</td>\n",
       "      <td>English</td>\n",
       "      <td>3.65</td>\n",
       "    </tr>\n",
       "    <tr>\n",
       "      <th>23</th>\n",
       "      <td>new</td>\n",
       "      <td>English</td>\n",
       "      <td>7.02</td>\n",
       "    </tr>\n",
       "    <tr>\n",
       "      <th>25</th>\n",
       "      <td>new</td>\n",
       "      <td>English</td>\n",
       "      <td>4.39</td>\n",
       "    </tr>\n",
       "  </tbody>\n",
       "</table>\n",
       "</div>"
      ],
      "text/plain": [
       "   landing_page language_preferred  time_spent_on_the_page\n",
       "1           new            English                    7.13\n",
       "16          new            English                    8.73\n",
       "22          new            English                    3.65\n",
       "23          new            English                    7.02\n",
       "25          new            English                    4.39"
      ]
     },
     "execution_count": 401,
     "metadata": {},
     "output_type": "execute_result"
    }
   ],
   "source": [
    "new_page_English_time.head()#shows first rows of the table"
   ]
  },
  {
   "cell_type": "code",
   "execution_count": 402,
   "id": "d4e3d0a3",
   "metadata": {},
   "outputs": [],
   "source": [
    "#The mean time spent on the landig page by users that use the new page in French\n",
    "mean_time_English_new_page=new_page_English_time['time_spent_on_the_page'].mean()"
   ]
  },
  {
   "cell_type": "code",
   "execution_count": 403,
   "id": "84b0dd1f",
   "metadata": {},
   "outputs": [
    {
     "name": "stdout",
     "output_type": "stream",
     "text": [
      "The mean times spent on the new landing page depending on the language preferred are:  6.2 for French, 5.84 for Spanish and 6.66 for English\n"
     ]
    }
   ],
   "source": [
    "print(f'The mean times spent on the new landing page depending on the language preferred are:  {np.round(mean_time_French_new_page,2)} for French, {np.round(mean_time_Spanish_new_page,2)} for Spanish and {np.round(mean_time_English_new_page,2)} for English')"
   ]
  },
  {
   "cell_type": "code",
   "execution_count": 404,
   "id": "b0145a7c",
   "metadata": {},
   "outputs": [
    {
     "data": {
      "text/plain": [
       "Text(1.75, 5.75, 'mean_time=5.33')"
      ]
     },
     "execution_count": 404,
     "metadata": {},
     "output_type": "execute_result"
    },
    {
     "data": {
      "image/png": "[encoded data removed]",
      "text/plain": [
       "<Figure size 720x576 with 1 Axes>"
      ]
     },
     "metadata": {
      "needs_background": "light"
     },
     "output_type": "display_data"
    }
   ],
   "source": [
    "'''Since we hae va categorical and numeric variables, we are plotting the mean times of each\n",
    "variable according to the language by using a boxplot.'''\n",
    "plt.figure(figsize=(10,8))# set size\n",
    "sns.boxplot(data=new_page_time_language, y=new_page_time_language['time_spent_on_the_page'], x= new_page_time_language['language_preferred'], showmeans=True, palette='Set3' )\n",
    "plt.title('Mean time Spent on new page by users according to the language preferred', fontsize=14)# add title\n",
    "plt.text(x=-0.25, y=6, s= 'mean_time=6.66')#add text mean for English\n",
    "plt.text(x=0.75, y=5.60, s= 'mean_time=6.20')#add text mean for French\n",
    "plt.text(x=1.75, y=5.75, s= 'mean_time=5.33')#add text mean for Spanish"
   ]
  },
  {
   "cell_type": "markdown",
   "id": "fcd6e98b",
   "metadata": {},
   "source": [
    "After plotting the time spent by language_preferred on the new landing page, we can see the mean times are different but there are outliers that could be affecting this specific samples for French and Spanish language. We need to perform a test to conclude if the mean times are different.\n",
    "We have to analyze if the means for the time spent on the new landing page is equal or different for the three languages: French, Spanish and English.\n"
   ]
  },
  {
   "cell_type": "markdown",
   "id": "98f2739b",
   "metadata": {},
   "source": [
    "### Step 1: Define the null and alternate hypotheses"
   ]
  },
  {
   "cell_type": "markdown",
   "id": "f105aeff",
   "metadata": {},
   "source": [
    "We have to analyze if the means for the time spent on the new landing page is equal or different for the three languages: French, Spanish and English.\n",
    "\n",
    "$\\mu1$ is the mean time for English users\n",
    "\n",
    "$\\mu2$ is the mean time for French users\n",
    "\n",
    "$\\mu3$ is the mean time for Spanish users\n",
    "\n",
    "For the null hypothesis we are going to consider that the three mean times are equal. The alternative hypothesis will oppose to the null by considering that at least one mean time is unequal.\n",
    "\n",
    "#### null hypothesis\n",
    "$H_0$:$\\mu1$=$\\mu2$=$\\mu3$   \n",
    "\n",
    "#### alternative hypothesis\n",
    "$Ha$: at least one mean time is not equal to the other mean times "
   ]
  },
  {
   "cell_type": "markdown",
   "id": "b5377f68",
   "metadata": {},
   "source": [
    "### Step 2: Select Appropriate test"
   ]
  },
  {
   "cell_type": "markdown",
   "id": "55ebf85d",
   "metadata": {},
   "source": [
    "We are required to test the mean value of three different distributions. In this case we are using one_way ANOVA test.\n",
    "\n",
    "Let's check the assumptions:\n",
    "- Populations are normally distributed. we need to apply the Shapiro-wilk's test to test normality.\n",
    "- Samples are independent, simple samples. Yes, it is given in the case statement.\n",
    "- population variances are equal. We need to apply the Levene’s test to test if all the variances are equal.\n"
   ]
  },
  {
   "cell_type": "markdown",
   "id": "e8eb48b5",
   "metadata": {},
   "source": [
    "#### Test shapiro-wilk test for normality."
   ]
  },
  {
   "cell_type": "markdown",
   "id": "c094b095",
   "metadata": {},
   "source": [
    "We define the null and alternative hypothesis and the alternative hypothesis:\n",
    "\n",
    "#### null hypothesis\n",
    "$H_0$: The time spent on the new landing page follows a normal distribution \n",
    "\n",
    "#### alternative hypothesis\n",
    "$H_a$:The time spent on the new landing page does not follow a normal distribution \n",
    "\n",
    "\n"
   ]
  },
  {
   "cell_type": "code",
   "execution_count": 405,
   "id": "c0e0a1e1",
   "metadata": {},
   "outputs": [],
   "source": [
    "#The level of significance (alpha) for the test is 0.05\n",
    "\n",
    "alpha= 0.05"
   ]
  },
  {
   "cell_type": "code",
   "execution_count": 406,
   "id": "9e2c2715",
   "metadata": {},
   "outputs": [
    {
     "name": "stdout",
     "output_type": "stream",
     "text": [
      "The test_statistic is 0.9858 and the Shapiro_P_value is 0.804\n"
     ]
    }
   ],
   "source": [
    "shapiro_test_stat, shapiro_p_value=stats.shapiro(new_page_time_language['time_spent_on_the_page'])\n",
    "print(f'The test_statistic is {np.round(shapiro_test_stat,4)} and the Shapiro_P_value is {np.round(shapiro_p_value,4)}')"
   ]
  },
  {
   "cell_type": "code",
   "execution_count": 428,
   "id": "4c5fedf0",
   "metadata": {},
   "outputs": [
    {
     "name": "stdout",
     "output_type": "stream",
     "text": [
      "shapiro_p_value is 0.804, greater than alpha. We fail to reject the null hypothesis, therefore the time spent on the new landing page follows a normal distibution\n"
     ]
    }
   ],
   "source": [
    "if shapiro_p_value <alpha:\n",
    "    print(f'shapiro_p_value is {np.round(shapiro_p_value,4)}, less than alpha. We reject the null hypothesis, therefore the time spent on the new landing page does not follow a normal distibution')\n",
    "else:\n",
    "    print(f'shapiro_p_value is {np.round(shapiro_p_value,4)}, greater than alpha. We fail to reject the null hypothesis, therefore the time spent on the new landing page follows a normal distibution')"
   ]
  },
  {
   "cell_type": "markdown",
   "id": "b5c6a116",
   "metadata": {},
   "source": [
    "\n",
    "The time spent on the new landing page follows a normal distribution. It meets the assumption of normality.\n"
   ]
  },
  {
   "cell_type": "markdown",
   "id": "50e91257",
   "metadata": {},
   "source": [
    "#### Test Levene for equality of variances."
   ]
  },
  {
   "cell_type": "markdown",
   "id": "f773dfc4",
   "metadata": {},
   "source": [
    "We define the null and alternative hypothesis:\n",
    "\n",
    "#### null hypothesis\n",
    "$H_0$: all variances are equal for the time spent on the new landing page by English, French and Spanish users \n",
    "\n",
    "#### alternative hypothesis\n",
    "$H_a$:at least one variance is not equal "
   ]
  },
  {
   "cell_type": "code",
   "execution_count": 408,
   "id": "dfca7215",
   "metadata": {},
   "outputs": [],
   "source": [
    "#The level of significance (alpha) for the test is 0.05\n",
    "alpha=0.05\n"
   ]
  },
  {
   "cell_type": "markdown",
   "id": "cac9371e",
   "metadata": {},
   "source": [
    "We prepare the data for the test by selecting the times spent on the new landing page by language preferred."
   ]
  },
  {
   "cell_type": "code",
   "execution_count": 409,
   "id": "d724d425",
   "metadata": {},
   "outputs": [],
   "source": [
    "# time spent on the new landing page by English as language preferred.\n",
    "E=new_page_time_language['time_spent_on_the_page'][new_page_time_language['language_preferred']=='English']"
   ]
  },
  {
   "cell_type": "code",
   "execution_count": 410,
   "id": "3554d30f",
   "metadata": {},
   "outputs": [],
   "source": [
    "# time spent on the new landing page by French as language preferred.\n",
    "F=new_page_time_language['time_spent_on_the_page'][new_page_time_language['language_preferred']=='French']"
   ]
  },
  {
   "cell_type": "code",
   "execution_count": 411,
   "id": "b386695e",
   "metadata": {},
   "outputs": [],
   "source": [
    "## time spent on the new landing page by Spanish as language preferred.\n",
    "S=new_page_time_language['time_spent_on_the_page'][new_page_time_language['language_preferred']=='Spanish']"
   ]
  },
  {
   "cell_type": "code",
   "execution_count": 412,
   "id": "ea979228",
   "metadata": {},
   "outputs": [
    {
     "name": "stdout",
     "output_type": "stream",
     "text": [
      "The levene_test_stat is 0.7736 and the levene_p_value is 0.4671\n"
     ]
    }
   ],
   "source": [
    "levene_test_stat, levene_p_value=stats.levene(E,F,S)\n",
    "print(f'The levene_test_stat is {np.round(levene_test_stat,4)} and the levene_p_value is {np.round(levene_p_value, 4)}')"
   ]
  },
  {
   "cell_type": "code",
   "execution_count": 413,
   "id": "81468906",
   "metadata": {},
   "outputs": [
    {
     "name": "stdout",
     "output_type": "stream",
     "text": [
      "levene_p_value is 0.4671, so we fail to reject the null hypothesis, therefore the variances of time spent on the new landing page for the three languages users are equal.\n"
     ]
    }
   ],
   "source": [
    "if levene_p_value <alpha:\n",
    "    print(f'levene_p_value is {np.round(levene_p_value, 4)}, so we reject the null hypothesis, therefore the variances of time spent on the new landing page for the three languages users are different.')\n",
    "else:    \n",
    "    print(f'levene_p_value is {np.round(levene_p_value, 4)}, so we fail to reject the null hypothesis, therefore the variances of time spent on the new landing page for the three languages users are equal.')"
   ]
  },
  {
   "cell_type": "markdown",
   "id": "e6d0a29f",
   "metadata": {},
   "source": [
    "The equally of variances  assumption is also verified.\n",
    "The three assumptions have been verified so we can apply the one way ANOVA test by using the  one_way ANOVA test."
   ]
  },
  {
   "cell_type": "markdown",
   "id": "5bbc5d3c",
   "metadata": {},
   "source": [
    "Since all the assumptions are met, we can carry on with the one_way ANOVA test."
   ]
  },
  {
   "cell_type": "markdown",
   "id": "563ff31f",
   "metadata": {},
   "source": [
    "### Step 3: Decide the significance level"
   ]
  },
  {
   "cell_type": "markdown",
   "id": "3c1e1f0e",
   "metadata": {},
   "source": [
    "We are informed in the problem statement that the level of significance (alpha) is 0.05, we select α = 0.05"
   ]
  },
  {
   "cell_type": "code",
   "execution_count": 414,
   "id": "b62b8ccb",
   "metadata": {},
   "outputs": [],
   "source": [
    "alpha=0.05"
   ]
  },
  {
   "cell_type": "markdown",
   "id": "538b46ff",
   "metadata": {},
   "source": [
    "### Step 4: Collect and prepare data"
   ]
  },
  {
   "cell_type": "code",
   "execution_count": 415,
   "id": "933acca1",
   "metadata": {},
   "outputs": [],
   "source": [
    "# time spent on the new landing page by English as language preferred.\n",
    "E=new_page_time_language['time_spent_on_the_page'][new_page_time_language['language_preferred']=='English']\n",
    "# time spent on the new landing page by French as language preferred.\n",
    "F=new_page_time_language['time_spent_on_the_page'][new_page_time_language['language_preferred']=='French']\n",
    "## time spent on the new landing page by Spanish as language preferred.\n",
    "S=new_page_time_language['time_spent_on_the_page'][new_page_time_language['language_preferred']=='Spanish']"
   ]
  },
  {
   "cell_type": "markdown",
   "id": "ce46389e",
   "metadata": {},
   "source": [
    "### Step 5: Calculate the p-value"
   ]
  },
  {
   "cell_type": "code",
   "execution_count": 430,
   "id": "93e41922",
   "metadata": {},
   "outputs": [
    {
     "name": "stdout",
     "output_type": "stream",
     "text": [
      "The test_stat is 0.8544 and the p_value is 0.432\n"
     ]
    }
   ],
   "source": [
    "#we are applying the f_oneway for ANOVA to test the equality of means.\n",
    "test_stat4,p_value4=f_oneway(E,F,S)\n",
    "print(f'The test_stat is {np.round(test_stat4,4)} and the p_value is {np.round(p_value4,4)}')"
   ]
  },
  {
   "cell_type": "markdown",
   "id": "f8fb2b85",
   "metadata": {},
   "source": [
    "### Step 6: Compare the p-value with $\\alpha$"
   ]
  },
  {
   "cell_type": "code",
   "execution_count": 432,
   "id": "082ccc58",
   "metadata": {},
   "outputs": [
    {
     "name": "stdout",
     "output_type": "stream",
     "text": [
      "p_value 0.432 is greater than alpha, so we fail to reject the null hypothesis. The three mean times are equal\n"
     ]
    }
   ],
   "source": [
    "if p_value4< alpha:\n",
    "    print(f'p_value  {np.round(p_value4,4)} is less than alpha, so we reject the null hypothesis. At least one of the mean times is different')\n",
    "else: \n",
    "     print(f'p_value {np.round(p_value4,4)} is greater than alpha, so we fail to reject the null hypothesis. The three mean times are equal')\n"
   ]
  },
  {
   "cell_type": "markdown",
   "id": "2ee0c264",
   "metadata": {},
   "source": [
    "### Step 7:  Draw inference"
   ]
  },
  {
   "cell_type": "markdown",
   "id": "46e9f3bd",
   "metadata": {},
   "source": [
    "\n",
    "According to the one way ANOVA test we have performed, there is not relevant difference between the mean times that the users with different preferred languages spend on the new landing page. So, the language does not affect the time on the new landing page. The mean time difference that we initially acknowledge in the samples, led us to believe that the means were different but it must be the result of the variability of time spent on the landing page within each language group, not so much among the three languages_preferred groups: French, English and Spanish.\n"
   ]
  },
  {
   "cell_type": "code",
   "execution_count": 418,
   "id": "f053664d",
   "metadata": {},
   "outputs": [
    {
     "name": "stdout",
     "output_type": "stream",
     "text": [
      "Critical value is 3.1951\n"
     ]
    }
   ],
   "source": [
    "#F distribution of 43 degrees of freedom (N-K-1), where N is total the size of sample, K is number of groups.\n",
    "# numerator degree of freedom is k-1 what is 2\n",
    "#denominator degree of freedom is N-3 what is 47\n",
    "\n",
    "from scipy.stats import f\n",
    "\n",
    "critical_value4 = f.ppf(0.95, 2, 47)\n",
    "print(f'Critical value is {np.round(critical_value4,4)}')\n",
    "\n"
   ]
  },
  {
   "cell_type": "code",
   "execution_count": 419,
   "id": "57409ac3",
   "metadata": {},
   "outputs": [],
   "source": [
    "x7=np.linspace(0,5,50)##creating x-axis to plot the chi2 density function"
   ]
  },
  {
   "cell_type": "code",
   "execution_count": 420,
   "id": "5561ae51",
   "metadata": {},
   "outputs": [],
   "source": [
    "x8=np.linspace(critical_value4,5,50)# creating the x axis to color the rejection area"
   ]
  },
  {
   "cell_type": "code",
   "execution_count": 421,
   "id": "c5c98c95",
   "metadata": {},
   "outputs": [
    {
     "data": {
      "image/png": "[encoded data removed]",
      "text/plain": [
       "<Figure size 576x360 with 1 Axes>"
      ]
     },
     "metadata": {
      "needs_background": "light"
     },
     "output_type": "display_data"
    }
   ],
   "source": [
    "plt.figure(figsize= (8,5))\n",
    "plt.plot(x7, stats.f.pdf(x7,2,47), color='red', linewidth=3)\n",
    "plt.axvline(x= 0.85, linewidth=2, color='yellow' )#we draw the test_statistic value\n",
    "plt.axvline(x= 3.19, linewidth=2, color='black' )# we draw the critical value\n",
    "plt.text(x=1,y=0.1, s='test_statistic')#we add text on the plot with names for the lines\n",
    "plt.text(x=3,y=0.25, s='critical_value')#we add text on the plot with names for the lines\n",
    "plt.fill_between(x8, stats.f.pdf(x8,2,47),color='red')\n",
    "plt.show()\n",
    "\n"
   ]
  },
  {
   "cell_type": "markdown",
   "id": "3acbc947",
   "metadata": {
    "id": "3acbc947"
   },
   "source": [
    "## Conclusion and Business Recommendations"
   ]
  },
  {
   "cell_type": "markdown",
   "id": "b9398225",
   "metadata": {
    "id": "21fb1063"
   },
   "source": [
    "The 'E-news Express' is trying to expand their business by increasing the number of subscribers. In order to do so, and A/B marketing analyst is being carried out by comparing the user's behavior when presented with two different landing pages: the newly designed one and the old one implemented for some time.\n",
    "\n",
    "A priori, by looking the data and after doing some descriptive data analysis, we can assume that the new landing page has features that seem to be more attractive for the visitors. We needed to confirm those assumptions by carry out an inferential analysis, by using different hypothesis testing methods.\n",
    "\n",
    "The Descriptive data analysis provided us with some initial valuable insights:\n",
    "\n",
    "•\tThe overall time spent on both landing pages are about 5.30 minutes, but the standard deviation gave us the impression of some dispersion in the data, in other words, the time spent on the landing pages could vary significantly among users.\n",
    "\n",
    "•\tBoth landing pages where available in French, Spanish and English and the randomly selected samples included equal proportions of language users: French speakers, English speakers, and Spanish Speakers.\n",
    "\n",
    "•\tThe control group has only visited the old landing page, the treatment group was only using the newly designed landing page. In both groups there were equal number of users (sample size was the same for both groups).\n",
    "\n",
    "•\tUsers that eventually became subscribers tended to spend longer times navigating the landing page for both groups, control and treatment.\n",
    "\n",
    "•\tWhen analyzing the data according to the preferred language, we can see that the users that spent the most time on the old landing page were the Spanish speaker, followed by English and French. On the contrary, the outcome is different for the new landing page, the English speakers are the ones that spent the most time on the web, followed by the French ones and in last position the Spanish ones.\n",
    "\n",
    "•\tIn regards with the converted group (users that decided to subscribe eventually), when divided by language preferred, we found out that the users that subscribed the most were the English speakers, followed by Spanish speakers and in last position the French ones. if we do further research, we can see also the ones most attracted by the new landing page seem to be the French and the Spanish users, which mostly subscribed after enjoying the new page. For the English speakers, the proportion among two landing pages are not so different, even though the English ones are the ones with a total higher rate of subscriptions.\n",
    "\n",
    "In order to check if we can infer the users’ behavior from the samples group to the population, we have carried out several hypothesis tests.\n",
    "\n",
    "•\tWe tested if the users spend more time on the new landing page than on the old one. To test this hypothesis, we used a one-tailed t-test for two independent samples for equality of means with unequal standard deviation. The result of the test shows that in average, users spend more time on the new landing page when compared with the old one, maybe the new design is more attractive for most of the visitors.\n",
    "\n",
    "•\tWe tested if the proportions of users who visits each landing page and get converted are greater for the new landing page than for the older page. After applying a one-tailed z-test for two population proportions, we can conclude that the new landing page was generating a greater number of new subscribers.\n",
    "\n",
    "•\tWe tested if the rate of users that become new subscribers and their language preferred are related. To test if the language and the new subscribers where related we performed a Chi_square test for independence. The result for the test was clear, there is not association between the two of them; so, the language and the decision of becoming a member after using any of the landing pages are independent. The language used does not affect the decision of subscribing.\n",
    "\n",
    "•\tWe analyzed if the time spend on the new landing page depends on the language used: English, Spanish, and French. After carrying on a one-way ANOVA test, we can conclude that the overall time spend on any landing page is the same for the three language users. So, we did not find any significant differences among groups.\n",
    "\n",
    "#### Business Recommendations.\n",
    "The newly designed landing page is bringing new subscribers to 'E-news Express' so it can be a good choice for the company to increase their sales. On the other hand, it is unclear the reason why the users prefer the new landing page, maybe the new design is more appealing or maybe there are some other factors or features we would need to identify. Some additional research should be done in order to find out what is attracting new member to 'E-news Express' website.\n",
    "After completing an extensive descriptive data analysis followed by some inferential testing, we can conclude that changing the current landing page for the new one could generate a higher number of members for 'E-news Express', that will translate into will lead to higher sales and eventually, a business expansion.\n"
   ]
  }
 ],
 "metadata": {
  "colab": {
   "collapsed_sections": [],
   "name": "ENews_Express_Learner_Notebook[Full Code Version].ipynb",
   "provenance": []
  },
  "kernelspec": {
   "display_name": "Python 3 (ipykernel)",
   "language": "python",
   "name": "python3"
  },
  "language_info": {
   "codemirror_mode": {
    "name": "ipython",
    "version": 3
   },
   "file_extension": ".py",
   "mimetype": "text/x-python",
   "name": "python",
   "nbconvert_exporter": "python",
   "pygments_lexer": "ipython3",
   "version": "3.9.7"
  }
 },
 "nbformat": 4,
 "nbformat_minor": 5
}
